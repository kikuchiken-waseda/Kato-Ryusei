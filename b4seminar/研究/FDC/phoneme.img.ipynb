{
 "cells": [
  {
   "cell_type": "code",
   "execution_count": 5,
   "id": "b86efcdc-7c09-460b-b61b-7a40650d8bab",
   "metadata": {},
   "outputs": [],
   "source": [
    "from collections import defaultdict"
   ]
  },
  {
   "cell_type": "code",
   "execution_count": 6,
   "id": "664271ee-cb0c-4c13-9fbd-f3dce9806d53",
   "metadata": {},
   "outputs": [
    {
     "ename": "ModuleNotFoundError",
     "evalue": "No module named 'cis'",
     "output_type": "error",
     "traceback": [
      "\u001b[0;31m---------------------------------------------------------------------------\u001b[0m",
      "\u001b[0;31mModuleNotFoundError\u001b[0m                       Traceback (most recent call last)",
      "\u001b[0;32m<ipython-input-6-5384ec3b529d>\u001b[0m in \u001b[0;36m<module>\u001b[0;34m\u001b[0m\n\u001b[0;32m----> 1\u001b[0;31m \u001b[0;32mimport\u001b[0m \u001b[0mcis\u001b[0m\u001b[0;34m\u001b[0m\u001b[0;34m\u001b[0m\u001b[0m\n\u001b[0m",
      "\u001b[0;31mModuleNotFoundError\u001b[0m: No module named 'cis'"
     ]
    }
   ],
   "source": [
    "import cis "
   ]
  },
  {
   "cell_type": "code",
   "execution_count": 3,
   "id": "0e51b5fc-0143-4e01-9db9-2bb82c8c3ceb",
   "metadata": {},
   "outputs": [
    {
     "ename": "ModuleNotFoundError",
     "evalue": "No module named 'cis'",
     "output_type": "error",
     "traceback": [
      "\u001b[0;31m---------------------------------------------------------------------------\u001b[0m",
      "\u001b[0;31mModuleNotFoundError\u001b[0m                       Traceback (most recent call last)",
      "\u001b[0;32m<ipython-input-3-cd1a67b62d1b>\u001b[0m in \u001b[0;36m<module>\u001b[0;34m\u001b[0m\n\u001b[1;32m      3\u001b[0m \u001b[0;31m# 使用するパッケージ\u001b[0m\u001b[0;34m\u001b[0m\u001b[0;34m\u001b[0m\u001b[0;34m\u001b[0m\u001b[0m\n\u001b[1;32m      4\u001b[0m \u001b[0;32mimport\u001b[0m \u001b[0mmatplotlib\u001b[0m\u001b[0;34m.\u001b[0m\u001b[0mpyplot\u001b[0m \u001b[0;32mas\u001b[0m \u001b[0mplt\u001b[0m\u001b[0;34m\u001b[0m\u001b[0;34m\u001b[0m\u001b[0m\n\u001b[0;32m----> 5\u001b[0;31m \u001b[0;32mimport\u001b[0m \u001b[0mcis\u001b[0m\u001b[0;34m\u001b[0m\u001b[0;34m\u001b[0m\u001b[0m\n\u001b[0m\u001b[1;32m      6\u001b[0m \u001b[0;32mfrom\u001b[0m \u001b[0mcollections\u001b[0m \u001b[0;32mimport\u001b[0m \u001b[0mdefaultdict\u001b[0m\u001b[0;34m\u001b[0m\u001b[0;34m\u001b[0m\u001b[0m\n\u001b[1;32m      7\u001b[0m \u001b[0;34m\u001b[0m\u001b[0m\n",
      "\u001b[0;31mModuleNotFoundError\u001b[0m: No module named 'cis'"
     ]
    }
   ],
   "source": [
    "#segmentation-kitによって得られた各音素の発声タイミングのデータを使い，音声データを切り出し，音素波形を確認します．\n",
    "\n",
    "# 使用するパッケージ\n",
    "import matplotlib.pyplot as plt\n",
    "import cis \n",
    "from collections import defaultdict\n",
    "\n",
    "#音素部分の画像出力\n",
    "for i in range(1,100,1):\n",
    "    data_list = []\n",
    "    open_file = \"lab_and_text/sound-\"+str(i).zfill(3)+\".lab\"\n",
    "    filename = \"wav/sound-\"+str(i).zfill(3)\n",
    "    v ,fs = cis.wavread(filename+\".wav\")\n",
    "    #labファイルの音素データに関する情報を格納\n",
    "    with open(open_file,\"r\") as f:\n",
    "        data = f.readline().split()\n",
    "        while data:\n",
    "            data_list.append(data)\n",
    "            data = f.readline().split()\n",
    "        #各音素毎に保存したいので，alphabetの辞書を作成\n",
    "        saisei_dic = defaultdict(list)\n",
    "        #音素ラベル，開始・終了タイミングを辞書に追加\n",
    "        for j in range(len(data_list)):\n",
    "            label =  data_list[j][2]\n",
    "            if label != \"silB\" and label != \"silE\":\n",
    "                x1 = int(fs * float(data_list[j][0]))\n",
    "                x2 = int(fs * float(data_list[j][1]))\n",
    "                saisei_dic[label].append([x1, x2])\n",
    "        #音素の波形画像を出力\n",
    "        for j in saisei_dic:\n",
    "            for k in range(len(saisei_dic[j])):\n",
    "                fig = plt.figure()\n",
    "                ax = fig.add_subplot(1, 1, 1)\n",
    "                ax.plot(v[saisei_dic[j][k][0]:saisei_dic[j][k][1]])\n",
    "                plt.savefig('Phoneme_file/' + j + '_' + str(i) + '_' + str(k) + '.png')\n"
   ]
  },
  {
   "cell_type": "code",
   "execution_count": 2,
   "id": "984283e3-455d-438d-9111-551e9d25eefc",
   "metadata": {},
   "outputs": [
    {
     "ename": "ModuleNotFoundError",
     "evalue": "No module named 'cis'",
     "output_type": "error",
     "traceback": [
      "\u001b[0;31m---------------------------------------------------------------------------\u001b[0m",
      "\u001b[0;31mModuleNotFoundError\u001b[0m                       Traceback (most recent call last)",
      "\u001b[0;32m<ipython-input-2-3900b9539ae7>\u001b[0m in \u001b[0;36m<module>\u001b[0;34m\u001b[0m\n\u001b[1;32m      2\u001b[0m \u001b[0;34m\u001b[0m\u001b[0m\n\u001b[1;32m      3\u001b[0m \u001b[0;31m#使用するパッケージ\u001b[0m\u001b[0;34m\u001b[0m\u001b[0;34m\u001b[0m\u001b[0;34m\u001b[0m\u001b[0m\n\u001b[0;32m----> 4\u001b[0;31m \u001b[0;32mimport\u001b[0m \u001b[0mcis\u001b[0m\u001b[0;34m\u001b[0m\u001b[0;34m\u001b[0m\u001b[0m\n\u001b[0m\u001b[1;32m      5\u001b[0m \u001b[0;32mimport\u001b[0m \u001b[0mnumpy\u001b[0m \u001b[0;32mas\u001b[0m \u001b[0mnp\u001b[0m\u001b[0;34m\u001b[0m\u001b[0;34m\u001b[0m\u001b[0m\n\u001b[1;32m      6\u001b[0m \u001b[0;32mimport\u001b[0m \u001b[0mscipy\u001b[0m\u001b[0;34m.\u001b[0m\u001b[0msignal\u001b[0m\u001b[0;34m\u001b[0m\u001b[0;34m\u001b[0m\u001b[0m\n",
      "\u001b[0;31mModuleNotFoundError\u001b[0m: No module named 'cis'"
     ]
    }
   ],
   "source": [
    "#母音の音素に対してフォルマントを求め，線形予測分析(LPC)を使ってフォルマントの包絡とそのピークを抽出\n",
    "\n",
    "#使用するパッケージ\n",
    "import cis\n",
    "import numpy as np\n",
    "import scipy.signal\n",
    "from levinson_durbin import autocorr, LevinsonDurbin\n",
    "from collections import defaultdict\n",
    "import matplotlib.pyplot as plt\n",
    "from scipy.fftpack import fft\n",
    "\n",
    "#プリエンファシス(高域強調)\n",
    "def preEmphasis(wave, p=0.97):\n",
    "    # 係数 (1.0, -p) のFIRフィルタを作成\n",
    "    return scipy.signal.lfilter([1.0, -p], 1, wave)\n",
    "\n",
    "boin_list = [\"a\",\"i\",\"u\",\"e\",\"o\"]\n",
    "\n",
    "#データの読み込み, 音素ごとに辞書化\n",
    "for i in range(1,100,1):\n",
    "    data_list = []\n",
    "    open_file = \"lab_and_text/sound-\"+str(i).zfill(3)+\".lab\"\n",
    "    filename = \"wav/sound-\"+str(i).zfill(3)\n",
    "    v ,fs = cis.wavread(filename+\".wav\")\n",
    "    with open(open_file,\"r\") as f:\n",
    "        data = f.readline().split()\n",
    "        while data:\n",
    "            data_list.append(data)\n",
    "            data = f.readline().split()\n",
    "        saisei_dic = defaultdict(list)\n",
    "        for j in range(len(data_list)):\n",
    "            label =  data_list[j][2]\n",
    "            if label in boin_list:\n",
    "                x1 = int(fs * float(data_list[j][0]))\n",
    "                x2 = int(fs * float(data_list[j][1]))\n",
    "                saisei_dic[label].append([x1, x2])\n",
    "        for j in saisei_dic:\n",
    "            for k in range(len(saisei_dic[j])):\n",
    "                # LPC係数を求める(lpcの次数は要調整)\n",
    "                lpcOrder = 16\n",
    "                #短すぎるデータは扱いづらいので削除\n",
    "                start = saisei_dic[j][k][0]\n",
    "                end = saisei_dic[j][k][1]\n",
    "                if (end - start) <= fs//200:\n",
    "                    continue\n",
    "                fig = plt.figure()\n",
    "                ax = fig.add_subplot(1, 1, 1)\n",
    "                #センター部分を使う\n",
    "                center = (end + start) // 2\n",
    "                cuttime = 0.04\n",
    "                voice_data = v[center - int(cuttime / 2 * fs) : center + int(cuttime / 2 * fs)]\n",
    "                #正規化\n",
    "                voice_data = voice_data/max(abs(voice_data))\n",
    "                #プリエンファシス\n",
    "                p = 0.97\n",
    "                voice_data = preEmphasis(voice_data, p)\n",
    "                #ハミング窓\n",
    "                hammingWindow = np.hamming(len(voice_data))\n",
    "                voice_data = voice_data * hammingWindow    \n",
    "                r = autocorr(voice_data, lpcOrder + 1)\n",
    "                a, e  = LevinsonDurbin(r, lpcOrder)\n",
    "                # LPC係数の振幅スペクトルを求める\n",
    "                sample = len(voice_data)\n",
    "                fscale = np.fft.fftfreq(sample, d = 1.0 / fs)[:sample//2]\n",
    "                # オリジナル信号の対数スペクトル\n",
    "                spec = np.abs(fft(voice_data, sample))\n",
    "                logspec = 20 * np.log10(spec)\n",
    "                ax.plot(fscale, logspec[:sample//2])\n",
    "                # LPC対数スペクトル\n",
    "                w, h = scipy.signal.freqz(np.sqrt(e), a, sample, \"whole\")\n",
    "                lpcspec = np.abs(h)\n",
    "                loglpcspec = 20 * np.log10(lpcspec)\n",
    "                #出力をプロットしてみて出力\n",
    "                ax.plot(fscale, loglpcspec[:sample//2], \"r\", linewidth=2)\n",
    "                maxId = scipy.signal.argrelmax(loglpcspec[:sample//2],order=3)\n",
    "                maxId = maxId[0]\n",
    "                #とりあえず4つ分ぐらいのフォルマントの位置を出力\n",
    "                ax.axvline(fscale[maxId[0]], ls = \"--\", color = \"navy\")\n",
    "                ax.axvline(fscale[maxId[1]], ls = \"--\", color = \"navy\")\n",
    "                ax.axvline(fscale[maxId[2]], ls = \"--\", color = \"navy\")\n",
    "                ax.axvline(fscale[maxId[3]], ls = \"--\", color = \"navy\")\n",
    "                plt.savefig('formant_file/'+j+'_'+str(i)+'_'+str(k)+'.png')"
   ]
  },
  {
   "cell_type": "code",
   "execution_count": null,
   "id": "cfc4df02-1310-4b52-bc9c-2e6d0add6b84",
   "metadata": {},
   "outputs": [],
   "source": []
  }
 ],
 "metadata": {
  "kernelspec": {
   "display_name": "Python 3",
   "language": "python",
   "name": "python3"
  },
  "language_info": {
   "codemirror_mode": {
    "name": "ipython",
    "version": 3
   },
   "file_extension": ".py",
   "mimetype": "text/x-python",
   "name": "python",
   "nbconvert_exporter": "python",
   "pygments_lexer": "ipython3",
   "version": "3.7.10"
  }
 },
 "nbformat": 4,
 "nbformat_minor": 5
}
