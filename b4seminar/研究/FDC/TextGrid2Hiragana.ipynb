{
 "cells": [
  {
   "cell_type": "code",
   "execution_count": 12,
   "id": "19f4b982-cfaa-4270-baa9-b5d03a51af61",
   "metadata": {},
   "outputs": [
    {
     "data": {
      "text/plain": [
       "'/Users/katouryuusei/Dropbox/FDC'"
      ]
     },
     "execution_count": 12,
     "metadata": {},
     "output_type": "execute_result"
    }
   ],
   "source": [
    "pwd"
   ]
  },
  {
   "cell_type": "code",
   "execution_count": 1,
   "id": "32781565-821a-4479-a65d-58570038f659",
   "metadata": {},
   "outputs": [],
   "source": [
    "from tgt import read_textgrid\n",
    "from pandas import DataFrame"
   ]
  },
  {
   "cell_type": "code",
   "execution_count": 2,
   "id": "d78ed3c6-24f2-4d02-bcbd-242fbb7e1cbd",
   "metadata": {},
   "outputs": [],
   "source": [
    "import tgt"
   ]
  },
  {
   "cell_type": "code",
   "execution_count": 3,
   "id": "945c88f7-7dea-4252-ab02-9f750d4ce367",
   "metadata": {},
   "outputs": [],
   "source": [
    "#漢字をひらがなに\n",
    "from pykakasi import kakasi"
   ]
  },
  {
   "cell_type": "code",
   "execution_count": 4,
   "id": "cda215fe-26e6-4c90-8e56-92c8a8ddb074",
   "metadata": {},
   "outputs": [],
   "source": [
    "#カタカナをひらがなに\n",
    "import jaconv"
   ]
  },
  {
   "cell_type": "code",
   "execution_count": 5,
   "id": "060f27d2-fff8-4c95-b885-5d718612be07",
   "metadata": {},
   "outputs": [],
   "source": [
    "tg = read_textgrid(\"./disfluent/FAOMFUN1disfluency.TextGrid\")\n",
    "tg2 = read_textgrid(\"./disfluent/FAOMFUN2disfluency.TextGrid\")\n",
    "tg3 = read_textgrid(\"./disfluent/FAOMNAN1disfluency.TextGrid\")\n",
    "tg4 = read_textgrid(\"./disfluent/FAOMNAN2disfluency.TextGrid\")\n",
    "tg5 = read_textgrid(\"./disfluent/MAKMTKN1disfluency.TextGrid\")\n",
    "tg6 = read_textgrid(\"./disfluent/MAKMTKN2disfluency.TextGrid\")\n",
    "tg7 = read_textgrid(\"./disfluent/MTKMTTF1disfluency.TextGrid\")\n",
    "tg8 = read_textgrid(\"./disfluent/MTKMTTF2disfluency.TextGrid\")"
   ]
  },
  {
   "cell_type": "code",
   "execution_count": 6,
   "id": "1d2e5774-80e1-4456-9377-5e80507dbc89",
   "metadata": {},
   "outputs": [],
   "source": [
    "#tg3 = read_textgrid(\"./disfluent/FAOMNAN1disfluency.TextGrid\")\n",
    "#tier3 = tg3.get_tier_by_name(\"disfluency\")\n",
    "#df3 = DataFrame([interval.text for interval in tier3], columns=[\"words\"])\n",
    "#A3 = df3.words.value_counts()"
   ]
  },
  {
   "cell_type": "code",
   "execution_count": 7,
   "id": "cd21ca2c-ad42-424a-9ef2-2264c9491bb3",
   "metadata": {},
   "outputs": [
    {
     "name": "stderr",
     "output_type": "stream",
     "text": [
      "/Users/katouryuusei/.pyenv/versions/3.7.10/lib/python3.7/site-packages/ipykernel_launcher.py:11: DeprecationWarning: Call to deprecated method setMode. (Old API will be removed in v3.0.) -- Deprecated since version 2.1.\n",
      "  # This is added back by InteractiveShellApp.init_path()\n",
      "/Users/katouryuusei/.pyenv/versions/3.7.10/lib/python3.7/site-packages/ipykernel_launcher.py:14: DeprecationWarning: Call to deprecated method getConverter. (Old API will be removed in v3.0.) -- Deprecated since version 2.1.\n",
      "  \n",
      "/Users/katouryuusei/.pyenv/versions/3.7.10/lib/python3.7/site-packages/ipykernel_launcher.py:15: DeprecationWarning: Call to deprecated method do. (Old API will be removed in v3.0.) -- Deprecated since version 2.1.\n",
      "  from ipykernel import kernelapp as app\n"
     ]
    },
    {
     "data": {
      "text/plain": [
       "'けいたいそかいせき'"
      ]
     },
     "execution_count": 7,
     "metadata": {},
     "output_type": "execute_result"
    }
   ],
   "source": [
    "#サンプル 漢字をひらがな\n",
    "\n",
    "\n",
    "from pykakasi import kakasi\n",
    "\n",
    "text = \"形態素解析\"\n",
    "\n",
    "# オブジェクトをインスタンス化\n",
    "kakasi = kakasi()\n",
    "# モードの設定：J(Kanji) to H(Hiragana)\n",
    "kakasi.setMode('J', 'H') \n",
    "\n",
    "# 変換して出力\n",
    "conv = kakasi.getConverter()\n",
    "conv.do(text)  # => けいたいそかいせき"
   ]
  },
  {
   "cell_type": "code",
   "execution_count": null,
   "id": "52083e58-4bcf-42e2-84c5-3e77a9561ba8",
   "metadata": {},
   "outputs": [],
   "source": []
  },
  {
   "cell_type": "code",
   "execution_count": 8,
   "id": "2d2f9fe3-c191-4dda-a70b-788e051a9f16",
   "metadata": {},
   "outputs": [],
   "source": [
    "tierIPUR = tg.get_tier_by_name(\"IPU_L\")\n",
    "tierIPUL = tg.get_tier_by_name(\"IPU_R\")\n",
    "\n",
    "dfL1 = DataFrame([interval.text for interval in tierIPUR if interval.text != \"#\"], columns=[\"words\"])\n",
    "dfR1 = DataFrame([interval.text for interval in tierIPUL if interval.text != \"#\"], columns=[\"words\"])\n"
   ]
  },
  {
   "cell_type": "code",
   "execution_count": 9,
   "id": "52092c07-f532-4dbf-a8cb-adf9970f4aa7",
   "metadata": {},
   "outputs": [
    {
     "data": {
      "text/html": [
       "<div>\n",
       "<style scoped>\n",
       "    .dataframe tbody tr th:only-of-type {\n",
       "        vertical-align: middle;\n",
       "    }\n",
       "\n",
       "    .dataframe tbody tr th {\n",
       "        vertical-align: top;\n",
       "    }\n",
       "\n",
       "    .dataframe thead th {\n",
       "        text-align: right;\n",
       "    }\n",
       "</style>\n",
       "<table border=\"1\" class=\"dataframe\">\n",
       "  <thead>\n",
       "    <tr style=\"text-align: right;\">\n",
       "      <th></th>\n",
       "      <th>words</th>\n",
       "    </tr>\n",
       "  </thead>\n",
       "  <tbody>\n",
       "    <tr>\n",
       "      <th>0</th>\n",
       "      <td>えー</td>\n",
       "    </tr>\n",
       "    <tr>\n",
       "      <th>1</th>\n",
       "      <td>私ががんばるんすか</td>\n",
       "    </tr>\n",
       "    <tr>\n",
       "      <th>2</th>\n",
       "      <td>えー</td>\n",
       "    </tr>\n",
       "    <tr>\n",
       "      <th>3</th>\n",
       "      <td>赤</td>\n",
       "    </tr>\n",
       "    <tr>\n",
       "      <th>4</th>\n",
       "      <td>赤と言ったら</td>\n",
       "    </tr>\n",
       "    <tr>\n",
       "      <th>...</th>\n",
       "      <td>...</td>\n",
       "    </tr>\n",
       "    <tr>\n",
       "      <th>129</th>\n",
       "      <td>影響って影響力ありますよね</td>\n",
       "    </tr>\n",
       "    <tr>\n",
       "      <th>130</th>\n",
       "      <td>うーん</td>\n",
       "    </tr>\n",
       "    <tr>\n",
       "      <th>131</th>\n",
       "      <td>うーん</td>\n",
       "    </tr>\n",
       "    <tr>\n",
       "      <th>132</th>\n",
       "      <td>そうっすよね</td>\n",
       "    </tr>\n",
       "    <tr>\n",
       "      <th>133</th>\n",
       "      <td>いつの間にかタバコの話になってたっていう</td>\n",
       "    </tr>\n",
       "  </tbody>\n",
       "</table>\n",
       "<p>134 rows × 1 columns</p>\n",
       "</div>"
      ],
      "text/plain": [
       "                    words\n",
       "0                      えー\n",
       "1               私ががんばるんすか\n",
       "2                      えー\n",
       "3                       赤\n",
       "4                  赤と言ったら\n",
       "..                    ...\n",
       "129         影響って影響力ありますよね\n",
       "130                   うーん\n",
       "131                   うーん\n",
       "132                そうっすよね\n",
       "133  いつの間にかタバコの話になってたっていう\n",
       "\n",
       "[134 rows x 1 columns]"
      ]
     },
     "execution_count": 9,
     "metadata": {},
     "output_type": "execute_result"
    }
   ],
   "source": [
    "dfL1"
   ]
  },
  {
   "cell_type": "code",
   "execution_count": 10,
   "id": "29225292-2494-4418-9f9c-fc235d8ca372",
   "metadata": {},
   "outputs": [
    {
     "ename": "FileNotFoundError",
     "evalue": "[Errno 2] No such file or directory: 'test/FAOMFUN_L.txt'",
     "output_type": "error",
     "traceback": [
      "\u001b[0;31m---------------------------------------------------------------------------\u001b[0m",
      "\u001b[0;31mFileNotFoundError\u001b[0m                         Traceback (most recent call last)",
      "\u001b[0;32m<ipython-input-10-f4c2fc351fb8>\u001b[0m in \u001b[0;36m<module>\u001b[0;34m\u001b[0m\n\u001b[1;32m     18\u001b[0m \u001b[0;34m\u001b[0m\u001b[0m\n\u001b[1;32m     19\u001b[0m \u001b[0;31m#txtファイルを読み込む\u001b[0m\u001b[0;34m\u001b[0m\u001b[0;34m\u001b[0m\u001b[0;34m\u001b[0m\u001b[0m\n\u001b[0;32m---> 20\u001b[0;31m \u001b[0mf\u001b[0m \u001b[0;34m=\u001b[0m \u001b[0mopen\u001b[0m\u001b[0;34m(\u001b[0m\u001b[0;34m'test/FAOMFUN_L.txt'\u001b[0m\u001b[0;34m,\u001b[0m \u001b[0;34m'r'\u001b[0m\u001b[0;34m)\u001b[0m\u001b[0;34m\u001b[0m\u001b[0;34m\u001b[0m\u001b[0m\n\u001b[0m\u001b[1;32m     21\u001b[0m \u001b[0;34m\u001b[0m\u001b[0m\n\u001b[1;32m     22\u001b[0m \u001b[0mdata\u001b[0m \u001b[0;34m=\u001b[0m \u001b[0mf\u001b[0m\u001b[0;34m.\u001b[0m\u001b[0mread\u001b[0m\u001b[0;34m(\u001b[0m\u001b[0;34m)\u001b[0m\u001b[0;34m\u001b[0m\u001b[0;34m\u001b[0m\u001b[0m\n",
      "\u001b[0;31mFileNotFoundError\u001b[0m: [Errno 2] No such file or directory: 'test/FAOMFUN_L.txt'"
     ]
    }
   ],
   "source": [
    "#テキストグリッドファイルを読み込む\n",
    "tierIPUR = tg.get_tier_by_name(\"IPU_L\")\n",
    "tierIPUL = tg.get_tier_by_name(\"IPU_R\")\n",
    "\n",
    "dfL1 = DataFrame([interval.text for interval in tierIPUR if interval.text != \"#\"], columns=[\"words\"])\n",
    "dfR1 = DataFrame([interval.text for interval in tierIPUL if interval.text != \"#\"], columns=[\"words\"])\n",
    "\n",
    "\n",
    "#テキストグリッドファイルをtxtファイルにする\n",
    "f = open('FAOMFUN_L.txt', 'w', encoding='UTF-8')\n",
    "\n",
    "datalist = dfR1[\"words\"]\n",
    "f.writelines(' sp '.join(datalist))\n",
    "\n",
    "f.close()\n",
    "\n",
    "\n",
    "\n",
    "#txtファイルを読み込む\n",
    "f = open('test/FAOMFUN_L.txt', 'r')\n",
    "\n",
    "data = f.read()\n",
    "\n",
    "f.close()\n",
    "\n",
    "\n",
    "\n",
    "#漢字をひらがなに変換\n",
    "conv = kakasi.getConverter()\n",
    "Hira = conv.do(data)\n",
    "\n",
    "\n",
    "\n",
    "#カタカナをひらがなにする\n",
    "Hira = jaconv.kata2hira(Hira)"
   ]
  },
  {
   "cell_type": "code",
   "execution_count": null,
   "id": "807828cc-9288-4e7c-bac2-fdbe338d6266",
   "metadata": {},
   "outputs": [],
   "source": []
  },
  {
   "cell_type": "code",
   "execution_count": null,
   "id": "cda13e51-b380-40f2-9b97-c5d8fc6348a2",
   "metadata": {},
   "outputs": [],
   "source": []
  },
  {
   "cell_type": "code",
   "execution_count": 11,
   "id": "6269f0e3-892e-4f3e-8ac5-aca149cdb986",
   "metadata": {},
   "outputs": [
    {
     "ename": "FileNotFoundError",
     "evalue": "[Errno 2] No such file or directory: 'test/FAOMFUN_L.txt'",
     "output_type": "error",
     "traceback": [
      "\u001b[0;31m---------------------------------------------------------------------------\u001b[0m",
      "\u001b[0;31mFileNotFoundError\u001b[0m                         Traceback (most recent call last)",
      "\u001b[0;32m<ipython-input-11-2b5a07d44761>\u001b[0m in \u001b[0;36m<module>\u001b[0;34m\u001b[0m\n\u001b[0;32m----> 1\u001b[0;31m \u001b[0mf\u001b[0m \u001b[0;34m=\u001b[0m \u001b[0mopen\u001b[0m\u001b[0;34m(\u001b[0m\u001b[0;34m'test/FAOMFUN_L.txt'\u001b[0m\u001b[0;34m,\u001b[0m \u001b[0;34m'w'\u001b[0m\u001b[0;34m,\u001b[0m \u001b[0mencoding\u001b[0m\u001b[0;34m=\u001b[0m\u001b[0;34m'UTF-8'\u001b[0m\u001b[0;34m)\u001b[0m\u001b[0;34m\u001b[0m\u001b[0;34m\u001b[0m\u001b[0m\n\u001b[0m\u001b[1;32m      2\u001b[0m \u001b[0;34m\u001b[0m\u001b[0m\n\u001b[1;32m      3\u001b[0m \u001b[0mdatalist\u001b[0m \u001b[0;34m=\u001b[0m \u001b[0mdfR1\u001b[0m\u001b[0;34m[\u001b[0m\u001b[0;34m\"words\"\u001b[0m\u001b[0;34m]\u001b[0m\u001b[0;34m\u001b[0m\u001b[0;34m\u001b[0m\u001b[0m\n\u001b[1;32m      4\u001b[0m \u001b[0mf\u001b[0m\u001b[0;34m.\u001b[0m\u001b[0mwritelines\u001b[0m\u001b[0;34m(\u001b[0m\u001b[0;34m' sp '\u001b[0m\u001b[0;34m.\u001b[0m\u001b[0mjoin\u001b[0m\u001b[0;34m(\u001b[0m\u001b[0mdatalist\u001b[0m\u001b[0;34m)\u001b[0m\u001b[0;34m)\u001b[0m\u001b[0;34m\u001b[0m\u001b[0;34m\u001b[0m\u001b[0m\n\u001b[1;32m      5\u001b[0m \u001b[0;34m\u001b[0m\u001b[0m\n",
      "\u001b[0;31mFileNotFoundError\u001b[0m: [Errno 2] No such file or directory: 'test/FAOMFUN_L.txt'"
     ]
    }
   ],
   "source": [
    "f = open('test/FAOMFUN_L.txt', 'w', encoding='UTF-8')\n",
    "\n",
    "datalist = dfR1[\"words\"]\n",
    "f.writelines(' sp '.join(datalist))\n",
    "\n",
    "f.close()"
   ]
  },
  {
   "cell_type": "code",
   "execution_count": 45,
   "id": "8ff2cba2-3b9d-4000-8d6d-f1579763bfb5",
   "metadata": {},
   "outputs": [
    {
     "data": {
      "text/plain": [
       "0                  はい頑張ってください\n",
       "1                         ですよ\n",
       "2                        赤ですよ\n",
       "3              まー最近朝焼けが綺麗ですよね\n",
       "4                         いやー\n",
       "               ...           \n",
       "83    まー根源があるとしたら多分そこだと思うんですよ\n",
       "84     でそこで友人の間で広まってってみたいなそんな\n",
       "85                  気がするんですよね\n",
       "86                   まー何だかんだで\n",
       "87                       ですよね\n",
       "Name: words, Length: 88, dtype: object"
      ]
     },
     "execution_count": 45,
     "metadata": {},
     "output_type": "execute_result"
    }
   ],
   "source": []
  },
  {
   "cell_type": "code",
   "execution_count": 48,
   "id": "0df48418-c66a-4678-9898-043a779d5912",
   "metadata": {},
   "outputs": [],
   "source": [
    "f = open('test/FAOMFUN_L.txt', 'r')\n",
    "\n",
    "data = f.read()\n",
    "\n",
    "f.close()"
   ]
  },
  {
   "cell_type": "code",
   "execution_count": 49,
   "id": "45a3596b-f2c5-46c4-b18d-82d79b9a130e",
   "metadata": {},
   "outputs": [
    {
     "data": {
      "text/plain": [
       "'はい頑張ってください sp ですよ sp 赤ですよ sp まー最近朝焼けが綺麗ですよね sp いやー sp あっそーなんすか sp おーそうなんすか sp 最近夕焼け何かよく分かんないんですけど sp 何か空が sp まー頭上が真っ黒で sp で何んだろーちほ地平線の方が sp 何か青だったり黄色だったりするのが最近 sp よく見て sp あんま赤いイメージが無いっていう sp あれはただ単に時間が遅いだけでしょうね sp あー sp 気が sp 気が sp おー sp 献血いや自主的にはないはず sp ですよ sp やったことないんですよ sp いやーあれ sp って何かこっそり取られててもおかしくないような気がしません sp いや何かちょっと何だろ何か病気か何か罹った時にじゃー血取りますよみたいな感じでそのままどっかに流れてそーな気がしません sp や注射針一本分も取る必要ないと思うんですよ sp えマジですか sp おー sp おーえ間違えた sp あーありますねそれも sp うわうわうわ sp で友人もその何だだろ新米さんのナースさんに sp まー何回もぶすぶす刺されたみたいなこと言ってましたね sp うん sp ん sp あー院生 sp はいはいはいはい sp あー sp 何でしょうね大学病院って言っちゃったいいんでしょうかね sp うわー sp あ sp ご愁傷様でした sp いやありがとうございますでいいんですかそこは sp いや続けても構いませんよ sp 血 sp うーん sp いやまずいですよ sp え sp 食べたことあるんですか sp おー sp あーあれははいはいあれは何でしょうね sp 体のどっかから血が sp 湧き出てきて何かあれじゃないですか口のほうまで戻ってきたとかそういうちょっとグロテスクな sp あーきっとそういう感じなんですよもういいからお前は走るんじゃないって体が言ってるんですよ多分 sp あー持久走はあれですよね現代社会ではなかなかいらないですよね sp あーそうなんですか sp いやちょっと最近寒いから sp やってないいんですけどあの朝早く起きてマラソンじゃなくて何だろうジョギングとか sp ってのはしてた感じで sp おお sp あー sp どれ位続きました sp あー一ヶ月十分じゃないですか sp いやタバコとダイエットは何かみんなずっとね何か好きなようで何回か繰り返してますからね sp あーいや臭いがだめですよあれなんだろしゅた主観的にあの吸うとおいしいらしいですけど sp まーお金もかかりそうだしっていう感じで sp えー去年の十月でしたっけ sp 十月末かな sp それ位で sp おー sp 大人買いを sp あーはいはい sp あーですね sp おー sp うん sp おーすごいっすね sp ん sp あーはいはいはい sp へー sp まー女性は最近増えてるイメージありますよね sp 何言うの sp 何か誰か有名人がすーはーすーはー吸ってるんでしょうかね sp で影響され sp まー根源があるとしたら多分そこだと思うんですよ sp でそこで友人の間で広まってってみたいなそんな sp 気がするんですよね sp まー何だかんだで sp ですよね'"
      ]
     },
     "execution_count": 49,
     "metadata": {},
     "output_type": "execute_result"
    }
   ],
   "source": [
    "data"
   ]
  },
  {
   "cell_type": "code",
   "execution_count": 50,
   "id": "63d001c1-ead3-4d48-9811-3ca6700d9722",
   "metadata": {},
   "outputs": [
    {
     "name": "stderr",
     "output_type": "stream",
     "text": [
      "/Users/katouryuusei/.pyenv/versions/3.7.10/lib/python3.7/site-packages/ipykernel_launcher.py:1: DeprecationWarning: Call to deprecated method getConverter. (Old API will be removed in v3.0.) -- Deprecated since version 2.1.\n",
      "  \"\"\"Entry point for launching an IPython kernel.\n",
      "/Users/katouryuusei/.pyenv/versions/3.7.10/lib/python3.7/site-packages/ipykernel_launcher.py:2: DeprecationWarning: Call to deprecated method do. (Old API will be removed in v3.0.) -- Deprecated since version 2.1.\n",
      "  \n"
     ]
    },
    {
     "data": {
      "text/plain": [
       "'はいがんばってください sp ですよ sp あかですよ sp まーさいきんあさやけがきれいですよね sp いやー sp あっそーなんすか sp おーそうなんすか sp さいきんゆうやけなにかよくわかんないんですけど sp なにかそらが sp まーずじょうがまっくろで sp でなにんだろーちほちへいせんのほうが sp なにかあおだったりきいろだったりするのがさいきん sp よくみて sp あんまあかいイメージがないっていう sp あれはただたんにじかんがおそいだけでしょうね sp あー sp きが sp きが sp おー sp けんけついやじしゅてきにはないはず sp ですよ sp やったことないんですよ sp いやーあれ sp ってなにかこっそりとられててもおかしくないようなきがしません sp いやなにかちょっとなんだろなにかびょうきかなにかりったときにじゃーちとりますよみたいなかんじでそのままどっかにながれてそーなきがしません sp やちゅうしゃばりいっぽんぶんもとるひつようないとおもうんですよ sp えマジですか sp おー sp おーえまちがえた sp あーありますねそれも sp うわうわうわ sp でゆうじんもそのなんだだろしんまいさんのナースさんに sp まーなんかいもぶすぶすさされたみたいなこといってましたね sp うん sp ん sp あーいんせい sp はいはいはいはい sp あー sp なんでしょうねだいがくびょういんっていっちゃったいいんでしょうかね sp うわー sp あ sp ごしゅうしょうさまでした sp いやありがとうございますでいいんですかそこは sp いやつづけてもかまいませんよ sp ち sp うーん sp いやまずいですよ sp え sp たべたことあるんですか sp おー sp あーあれははいはいあれはなんでしょうね sp からだのどっかからちが sp わきでてきてなにかあれじゃないですかくちのほうまでもどってきたとかそういうちょっとグロテスクな sp あーきっとそういうかんじなんですよもういいからおまえははしるんじゃないってからだがいってるんですよたぶん sp あーじきゅうそうはあれですよねげんだいしゃかいではなかなかいらないですよね sp あーそうなんですか sp いやちょっとさいきんさむいから sp やってないいんですけどあのあさはやくおきてマラソンじゃなくてなんだろうジョギングとか sp ってのはしてたかんじで sp おお sp あー sp どれくらいつづきました sp あーいっかげつじゅうぶんじゃないですか sp いやタバコとダイエットはなにかみんなずっとねなにかすきなようでなんかいかくりかえしてますからね sp あーいやくさいがだめですよあれなんだろしゅたしゅかんてきにあのすうとおいしいらしいですけど sp まーおきんもかかりそうだしっていうかんじで sp えーきょねんのじゅうがつでしたっけ sp じゅうがつまつかな sp それくらいで sp おー sp おとなかいを sp あーはいはい sp あーですね sp おー sp うん sp おーすごいっすね sp ん sp あーはいはいはい sp へー sp まーじょせいはさいきんふえてるイメージありますよね sp なにごとうの sp なにかだれかゆうめいじんがすーはーすーはーすってるんでしょうかね sp でえいきょうされ sp まーこんげんがあるとしたらたぶんそこだとおもうんですよ sp でそこでゆうじんのかんでひろまってってみたいなそんな sp きがするんですよね sp まーなんだかんだで sp ですよね'"
      ]
     },
     "execution_count": 50,
     "metadata": {},
     "output_type": "execute_result"
    }
   ],
   "source": [
    "conv = kakasi.getConverter()\n",
    "conv.do(data)"
   ]
  },
  {
   "cell_type": "code",
   "execution_count": null,
   "id": "fd98778e-ef02-4d0e-acd8-6c82526bf44e",
   "metadata": {},
   "outputs": [],
   "source": []
  },
  {
   "cell_type": "code",
   "execution_count": 53,
   "id": "7269ef6b-ed93-4e42-b22f-e7648da8ff7f",
   "metadata": {},
   "outputs": [
    {
     "name": "stderr",
     "output_type": "stream",
     "text": [
      "/Users/katouryuusei/.pyenv/versions/3.7.10/lib/python3.7/site-packages/ipykernel_launcher.py:1: DeprecationWarning: Call to deprecated method getConverter. (Old API will be removed in v3.0.) -- Deprecated since version 2.1.\n",
      "  \"\"\"Entry point for launching an IPython kernel.\n",
      "/Users/katouryuusei/.pyenv/versions/3.7.10/lib/python3.7/site-packages/ipykernel_launcher.py:2: DeprecationWarning: Call to deprecated method do. (Old API will be removed in v3.0.) -- Deprecated since version 2.1.\n",
      "  \n"
     ]
    }
   ],
   "source": [
    "conv = kakasi.getConverter()\n",
    "Hira = conv.do(data)"
   ]
  },
  {
   "cell_type": "code",
   "execution_count": 55,
   "id": "acd6b4c9-ce25-4ef0-ac56-90ed9a6a5053",
   "metadata": {},
   "outputs": [
    {
     "data": {
      "text/plain": [
       "'はいがんばってください sp ですよ sp あかですよ sp まーさいきんあさやけがきれいですよね sp いやー sp あっそーなんすか sp おーそうなんすか sp さいきんゆうやけなにかよくわかんないんですけど sp なにかそらが sp まーずじょうがまっくろで sp でなにんだろーちほちへいせんのほうが sp なにかあおだったりきいろだったりするのがさいきん sp よくみて sp あんまあかいイメージがないっていう sp あれはただたんにじかんがおそいだけでしょうね sp あー sp きが sp きが sp おー sp けんけついやじしゅてきにはないはず sp ですよ sp やったことないんですよ sp いやーあれ sp ってなにかこっそりとられててもおかしくないようなきがしません sp いやなにかちょっとなんだろなにかびょうきかなにかりったときにじゃーちとりますよみたいなかんじでそのままどっかにながれてそーなきがしません sp やちゅうしゃばりいっぽんぶんもとるひつようないとおもうんですよ sp えマジですか sp おー sp おーえまちがえた sp あーありますねそれも sp うわうわうわ sp でゆうじんもそのなんだだろしんまいさんのナースさんに sp まーなんかいもぶすぶすさされたみたいなこといってましたね sp うん sp ん sp あーいんせい sp はいはいはいはい sp あー sp なんでしょうねだいがくびょういんっていっちゃったいいんでしょうかね sp うわー sp あ sp ごしゅうしょうさまでした sp いやありがとうございますでいいんですかそこは sp いやつづけてもかまいませんよ sp ち sp うーん sp いやまずいですよ sp え sp たべたことあるんですか sp おー sp あーあれははいはいあれはなんでしょうね sp からだのどっかからちが sp わきでてきてなにかあれじゃないですかくちのほうまでもどってきたとかそういうちょっとグロテスクな sp あーきっとそういうかんじなんですよもういいからおまえははしるんじゃないってからだがいってるんですよたぶん sp あーじきゅうそうはあれですよねげんだいしゃかいではなかなかいらないですよね sp あーそうなんですか sp いやちょっとさいきんさむいから sp やってないいんですけどあのあさはやくおきてマラソンじゃなくてなんだろうジョギングとか sp ってのはしてたかんじで sp おお sp あー sp どれくらいつづきました sp あーいっかげつじゅうぶんじゃないですか sp いやタバコとダイエットはなにかみんなずっとねなにかすきなようでなんかいかくりかえしてますからね sp あーいやくさいがだめですよあれなんだろしゅたしゅかんてきにあのすうとおいしいらしいですけど sp まーおきんもかかりそうだしっていうかんじで sp えーきょねんのじゅうがつでしたっけ sp じゅうがつまつかな sp それくらいで sp おー sp おとなかいを sp あーはいはい sp あーですね sp おー sp うん sp おーすごいっすね sp ん sp あーはいはいはい sp へー sp まーじょせいはさいきんふえてるイメージありますよね sp なにごとうの sp なにかだれかゆうめいじんがすーはーすーはーすってるんでしょうかね sp でえいきょうされ sp まーこんげんがあるとしたらたぶんそこだとおもうんですよ sp でそこでゆうじんのかんでひろまってってみたいなそんな sp きがするんですよね sp まーなんだかんだで sp ですよね'"
      ]
     },
     "execution_count": 55,
     "metadata": {},
     "output_type": "execute_result"
    }
   ],
   "source": [
    "Hira"
   ]
  },
  {
   "cell_type": "code",
   "execution_count": null,
   "id": "21165123-b8f9-42d2-8312-64315e99fca5",
   "metadata": {},
   "outputs": [],
   "source": [
    "#サンプル　カタカナをひらがなに\n",
    "\n",
    "import jaconv\n",
    "\n",
    "word1 = \"リンゴ\"\n",
    "change_word1 = jaconv.kata2hira(word1)\n",
    "# ⇒りんご\n",
    "\n",
    "word2 = \"ぷりん\"\n",
    "change_word2 = jaconv.hira2kata(word2)\n",
    "# ⇒プリン"
   ]
  },
  {
   "cell_type": "code",
   "execution_count": 56,
   "id": "d34344da-e9f8-4c8b-878f-78408cdc56e3",
   "metadata": {},
   "outputs": [],
   "source": [
    "Hira = jaconv.kata2hira(Hira)"
   ]
  },
  {
   "cell_type": "code",
   "execution_count": 57,
   "id": "e5dcbe4b-6d5a-45c1-8260-9425456a7678",
   "metadata": {},
   "outputs": [
    {
     "data": {
      "text/plain": [
       "'はいがんばってください sp ですよ sp あかですよ sp まーさいきんあさやけがきれいですよね sp いやー sp あっそーなんすか sp おーそうなんすか sp さいきんゆうやけなにかよくわかんないんですけど sp なにかそらが sp まーずじょうがまっくろで sp でなにんだろーちほちへいせんのほうが sp なにかあおだったりきいろだったりするのがさいきん sp よくみて sp あんまあかいいめーじがないっていう sp あれはただたんにじかんがおそいだけでしょうね sp あー sp きが sp きが sp おー sp けんけついやじしゅてきにはないはず sp ですよ sp やったことないんですよ sp いやーあれ sp ってなにかこっそりとられててもおかしくないようなきがしません sp いやなにかちょっとなんだろなにかびょうきかなにかりったときにじゃーちとりますよみたいなかんじでそのままどっかにながれてそーなきがしません sp やちゅうしゃばりいっぽんぶんもとるひつようないとおもうんですよ sp えまじですか sp おー sp おーえまちがえた sp あーありますねそれも sp うわうわうわ sp でゆうじんもそのなんだだろしんまいさんのなーすさんに sp まーなんかいもぶすぶすさされたみたいなこといってましたね sp うん sp ん sp あーいんせい sp はいはいはいはい sp あー sp なんでしょうねだいがくびょういんっていっちゃったいいんでしょうかね sp うわー sp あ sp ごしゅうしょうさまでした sp いやありがとうございますでいいんですかそこは sp いやつづけてもかまいませんよ sp ち sp うーん sp いやまずいですよ sp え sp たべたことあるんですか sp おー sp あーあれははいはいあれはなんでしょうね sp からだのどっかからちが sp わきでてきてなにかあれじゃないですかくちのほうまでもどってきたとかそういうちょっとぐろてすくな sp あーきっとそういうかんじなんですよもういいからおまえははしるんじゃないってからだがいってるんですよたぶん sp あーじきゅうそうはあれですよねげんだいしゃかいではなかなかいらないですよね sp あーそうなんですか sp いやちょっとさいきんさむいから sp やってないいんですけどあのあさはやくおきてまらそんじゃなくてなんだろうじょぎんぐとか sp ってのはしてたかんじで sp おお sp あー sp どれくらいつづきました sp あーいっかげつじゅうぶんじゃないですか sp いやたばことだいえっとはなにかみんなずっとねなにかすきなようでなんかいかくりかえしてますからね sp あーいやくさいがだめですよあれなんだろしゅたしゅかんてきにあのすうとおいしいらしいですけど sp まーおきんもかかりそうだしっていうかんじで sp えーきょねんのじゅうがつでしたっけ sp じゅうがつまつかな sp それくらいで sp おー sp おとなかいを sp あーはいはい sp あーですね sp おー sp うん sp おーすごいっすね sp ん sp あーはいはいはい sp へー sp まーじょせいはさいきんふえてるいめーじありますよね sp なにごとうの sp なにかだれかゆうめいじんがすーはーすーはーすってるんでしょうかね sp でえいきょうされ sp まーこんげんがあるとしたらたぶんそこだとおもうんですよ sp でそこでゆうじんのかんでひろまってってみたいなそんな sp きがするんですよね sp まーなんだかんだで sp ですよね'"
      ]
     },
     "execution_count": 57,
     "metadata": {},
     "output_type": "execute_result"
    }
   ],
   "source": [
    "Hira"
   ]
  },
  {
   "cell_type": "code",
   "execution_count": null,
   "id": "ac248e14-1dbc-40d8-af82-d6604bfd471b",
   "metadata": {},
   "outputs": [],
   "source": []
  },
  {
   "cell_type": "code",
   "execution_count": 59,
   "id": "8d270e80-10e5-4dbe-8c3b-03dc50d688e1",
   "metadata": {},
   "outputs": [],
   "source": [
    "f = open('FAOMFUN_R.txt', 'w', encoding='UTF-8')\n",
    "\n",
    "\n",
    "f.writelines(Hira)\n",
    "\n",
    "f.close()"
   ]
  },
  {
   "cell_type": "code",
   "execution_count": null,
   "id": "932410d4-1766-4077-b958-c3fba533a53b",
   "metadata": {},
   "outputs": [],
   "source": []
  },
  {
   "cell_type": "code",
   "execution_count": null,
   "id": "8e9b9cbc-b0d6-4a6e-b3a2-a815a845b114",
   "metadata": {},
   "outputs": [],
   "source": []
  },
  {
   "cell_type": "code",
   "execution_count": null,
   "id": "26cced13-f91b-4328-993c-9322590050c4",
   "metadata": {},
   "outputs": [],
   "source": []
  },
  {
   "cell_type": "code",
   "execution_count": null,
   "id": "eb8232d6-0cd9-42c5-9db6-4f11ddab106d",
   "metadata": {},
   "outputs": [],
   "source": []
  },
  {
   "cell_type": "code",
   "execution_count": null,
   "id": "a0ab0d0a-070d-46a1-a6ec-0d8cc0d086e4",
   "metadata": {},
   "outputs": [],
   "source": [
    "#ひらがなに変換\n",
    "f = open('test/FAOMFUN_L.txt', 'r')\n",
    "data = f.read()\n",
    "f.close()\n",
    "\n",
    "\n",
    "conv = kakasi.getConverter()\n",
    "Hira = conv.do(data)\n",
    "Hira = jaconv.kata2hira(Hira)"
   ]
  },
  {
   "cell_type": "code",
   "execution_count": 60,
   "id": "59c3a009-27a7-42cd-9dd0-7cd8b880ac53",
   "metadata": {},
   "outputs": [
    {
     "data": {
      "text/plain": [
       "0                  はい頑張ってください\n",
       "1                         ですよ\n",
       "2                        赤ですよ\n",
       "3              まー最近朝焼けが綺麗ですよね\n",
       "4                         いやー\n",
       "               ...           \n",
       "83    まー根源があるとしたら多分そこだと思うんですよ\n",
       "84     でそこで友人の間で広まってってみたいなそんな\n",
       "85                  気がするんですよね\n",
       "86                   まー何だかんだで\n",
       "87                       ですよね\n",
       "Name: words, Length: 88, dtype: object"
      ]
     },
     "execution_count": 60,
     "metadata": {},
     "output_type": "execute_result"
    }
   ],
   "source": [
    "datalist"
   ]
  },
  {
   "cell_type": "code",
   "execution_count": null,
   "id": "522725f0-af0b-48e5-a9c7-b8270166fa2f",
   "metadata": {},
   "outputs": [],
   "source": []
  },
  {
   "cell_type": "code",
   "execution_count": 64,
   "id": "7aa73347-a164-41b6-bbc6-4188bcfeb644",
   "metadata": {},
   "outputs": [
    {
     "name": "stderr",
     "output_type": "stream",
     "text": [
      "/Users/katouryuusei/.pyenv/versions/3.7.10/lib/python3.7/site-packages/ipykernel_launcher.py:29: DeprecationWarning: Call to deprecated method getConverter. (Old API will be removed in v3.0.) -- Deprecated since version 2.1.\n",
      "/Users/katouryuusei/.pyenv/versions/3.7.10/lib/python3.7/site-packages/ipykernel_launcher.py:30: DeprecationWarning: Call to deprecated method do. (Old API will be removed in v3.0.) -- Deprecated since version 2.1.\n"
     ]
    }
   ],
   "source": [
    "#テキストグリッドファイルを読み込む\n",
    "tierIPUR = tg.get_tier_by_name(\"IPU_L\")\n",
    "tierIPUL = tg.get_tier_by_name(\"IPU_R\")\n",
    "\n",
    "dfL1 = DataFrame([interval.text for interval in tierIPUR if interval.text != \"#\"], columns=[\"words\"])\n",
    "dfR1 = DataFrame([interval.text for interval in tierIPUL if interval.text != \"#\"], columns=[\"words\"])\n",
    "\n",
    "\n",
    "#テキストグリッドファイルをtxtファイルにする\n",
    "f = open('FAOMFUN_L.txt', 'w', encoding='UTF-8')\n",
    "\n",
    "datalist = dfL1[\"words\"]\n",
    "f.writelines(' sp '.join(datalist))\n",
    "\n",
    "f.close()\n",
    "\n",
    "\n",
    "\n",
    "#txtファイルを読み込む\n",
    "f = open('FAOMFUN_L.txt', 'r')\n",
    "\n",
    "data = f.read()\n",
    "\n",
    "f.close()\n",
    "\n",
    "\n",
    "\n",
    "#漢字をひらがなに変換\n",
    "conv = kakasi.getConverter()\n",
    "Hira = conv.do(data)\n",
    "\n",
    "\n",
    "\n",
    "#カタカナをひらがなにする\n",
    "Hira = jaconv.kata2hira(Hira)\n",
    "\n",
    "f = open('FAOMFUN_L.txt', 'w', encoding='UTF-8')\n",
    "\n",
    "\n",
    "f.writelines(Hira)\n",
    "\n",
    "f.close()"
   ]
  },
  {
   "cell_type": "code",
   "execution_count": 63,
   "id": "1d913bc4-7b2a-4fe7-8db6-905111c3c2af",
   "metadata": {},
   "outputs": [
    {
     "data": {
      "text/plain": [
       "'えー sp わたしががんばるんすか sp えー sp あか sp あかといったら sp なんだろー sp あ sp あさはやいんですか sp わたしあさにがてなんで sp あさやけ sp おー sp ゆどちらかというとゆうやけのほうがめにします sp えー sp んー sp うーん sp うーん sp あーたしかにそういうときも sp あるっちゃあるってかんじですね sp あーたしかにじかんがなにかかわるとけっこうくらくなりますよねふつうに sp それはたぶんあるようなきがします sp ちがちます sp のち sp そうだなあかね sp ちとか sp あけんけつとかしたことありますか sp うーん sp えっじしゅてきいがいになにかいつのまにかとられるとかあるんですか sp なんじなんじですかそれ sp んー sp たしかに sp びょういんでうらでそういうのがあったらこわいですけどね sp たしかにそうかんがえれば sp あたしでも sp そうだいっかいめっちゃとられたことありますそういえばびょういんで sp もしかしたらそんときに sp たぶん sp なにかまちがえたっていわれて sp なにか sp ととれなかったとかいって sp それでなにかににさん sp にさんかいくらいついたちにやられて sp しゅわんが sp あなだらけっていう sp うーん sp なんじゅっかい sp なにかでもたしかにわたしもしんまいさんっていうかあのたぶん sp たぶん sp あの sp が sp だいがくいいんせいっていうかあの sp あの sp なんていうんでしょうあのびょう sp ろくねんなまとかたぶんななねんなまとかのあのこれから sp びょういんにつとめるまえのにんみたいな sp そうそうすねたぶんだいがくびょういんてきなかんじで sp ありがとうございます sp ありがとうございます sp よくわかんないです sp えーと sp ちっていうわだいはそれくらいですかね sp ちでそんなに sp でも sp どうなんだろー sp ちって sp あじ sp まずいですか sp ち sp ないないですないですあっでもなんか sp あでもなにか sp あの sp なんてかじきゅうそうののちに sp なにかちっぽいあじしますちっぽいあじっていうかなんか sp これちかなみたいな sp なんかのど sp のどがなにか sp そういうはありますけど sp うん sp だいぶぐろいですけどそれははっ sp そういうそういうかんじっすかね sp じきゅうそうって sp でもだいぶからだはそれはがたきてますよねじきゅうそうののち sp なかなかいらないですよ sp てかだいがくはいってからもぜんぜんそういうけいやってないですしうんどうしてないですし sp え sp うんどうとかしてますかだいがくはいって sp えー sp えらい sp えらい sp えーわたしはぜん sp うんむかしは sp ちょっと sp なんかだいえっとしようとおもっていちじきがんばってはしるとかあるけどとちゅうでざせつして sp とちゅうでざせつして sp うーんなっちゃったりとか sp たぶんいっかげつとか sp そんぐらいっすね sp たばことだい sp うん sp たばこはすわないんで sp うーん sp あーねあがりしましたしね sp さいきん sp たぶんそれぐらい sp それぐらいですよなんかきつえんしゃの sp ともだちがなにか sp いろいろ sp がたがた sp がたがたいってました sp あでも sp あのこのぜんせいにんしきだったんですけど sp そんときに sp なにか sp そのひさしぶりにちゅうがくのともだちとかあうじゃないですか sp なにかきつえんしゃがすっごいふえてて sp なにか sp おんなのこってやっぱりしてきにあんまりすわないかなっていめーじが sp あったんだけれども sp すごいなにか sp わたしがなかよかったこは sp ほぼすってるっていってもいいくらいにすっててなんかさいごのあのさいごっていうかあの sp どどうそうかいみたいなのがあってそんときにみんなすってて sp けっこうきつえんしゃっておおいんだなっておもってあんがい sp うーん sp そうっすよね sp ゆうめいじん sp そうです sp あーそこでやっぱたしかに sp うーん sp たしかにそういうのありますよねえいきょうってえいきょうりょくありますよね sp えいきょうってえいきょうりょくありますよね sp うーん sp うーん sp そうっすよね sp いつのまにかたばこのはなしになってたっていう'"
      ]
     },
     "execution_count": 63,
     "metadata": {},
     "output_type": "execute_result"
    }
   ],
   "source": [
    "Hira"
   ]
  },
  {
   "cell_type": "code",
   "execution_count": null,
   "id": "3d585f4a-0a9b-476c-8dd1-a7ecfe27a40e",
   "metadata": {},
   "outputs": [],
   "source": []
  }
 ],
 "metadata": {
  "kernelspec": {
   "display_name": "Python 3",
   "language": "python",
   "name": "python3"
  },
  "language_info": {
   "codemirror_mode": {
    "name": "ipython",
    "version": 3
   },
   "file_extension": ".py",
   "mimetype": "text/x-python",
   "name": "python",
   "nbconvert_exporter": "python",
   "pygments_lexer": "ipython3",
   "version": "3.7.10"
  }
 },
 "nbformat": 4,
 "nbformat_minor": 5
}
