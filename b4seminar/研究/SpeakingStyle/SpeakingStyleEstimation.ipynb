{
 "cells": [
  {
   "cell_type": "code",
   "execution_count": 2,
   "id": "3a6657d8-53ee-4d07-b7c2-a8b6c7004720",
   "metadata": {},
   "outputs": [],
   "source": [
    "import MeCab\n",
    "import pandas as pd\n",
    "import numpy as np\n",
    "from pandas import DataFrame\n",
    "from glob import glob\n",
    "import matplotlib.pyplot as plt"
   ]
  },
  {
   "cell_type": "code",
   "execution_count": 497,
   "id": "07c98209-6a4e-48e6-ace7-2ce62075788a",
   "metadata": {},
   "outputs": [],
   "source": [
    "#path名を入れるとSpeaking Styleの三つの値を返す  I  F  C の順\n",
    "\n",
    "def hinshi(path):\n",
    "    #textファイルの読み込み\n",
    "#＊＊＊＊には保存したtxtファイルのパス名を入れてください\n",
    "    f= open(path, 'r', encoding='UTF-8')\n",
    "    text=f.read()\n",
    "    f.close()\n",
    "\n",
    "    #読み込んだtextファイルで形態素解析を行う\n",
    "    tagger =MeCab.Tagger(\"-d /usr/local/lib/mecab/dic/unidic/\")\n",
    "    tagger.parse('')\n",
    "    node = tagger.parseToNode(text)\n",
    "    \n",
    "    #取り出す品詞を決めている.今回は名詞\n",
    "    word_list=[]\n",
    "    while node:\n",
    "        word_type = node.feature.split(',')[0]\n",
    "        #名詞の他にも動詞や形容詞なども追加できる\n",
    "        if word_type in [\"名詞\"]:\n",
    "            word_list.append(node.surface)\n",
    "        node=node.next\n",
    "    word_list = [s for s in word_list if s != 'ー']\n",
    "    noun = len(word_list)\n",
    "\n",
    "\n",
    "    #連体詞\n",
    "    node = tagger.parseToNode(text)\n",
    "    word_list=[]\n",
    "    while node:\n",
    "        word_type = node.feature.split(',')[0]\n",
    "        if word_type in [\"連体詞\"]:\n",
    "            word_list.append(node.surface)\n",
    "        node=node.next\n",
    "    adno = len(word_list)\n",
    "\n",
    "\n",
    "    #助動詞\n",
    "    node = tagger.parseToNode(text)\n",
    "    word_list=[]\n",
    "    while node:\n",
    "        word_type = node.feature.split(',')[0]\n",
    "        if word_type in [\"助動詞\"]:\n",
    "            word_list.append(node.surface)\n",
    "        node=node.next\n",
    "    aux = len(word_list)\n",
    "    ###\n",
    "    desu = len([s for s in word_list if s == 'です'])\n",
    "    masu = len([s for s in word_list if s == 'ます'])\n",
    "    tyau = len([s for s in word_list if s == 'ちゃう'])\n",
    "\n",
    "    #副詞\n",
    "    node = tagger.parseToNode(text)\n",
    "    word_list=[]\n",
    "    while node:\n",
    "        word_type = node.feature.split(',')[0]\n",
    "        if word_type in [\"副詞\"]:\n",
    "            word_list.append(node.surface)\n",
    "        node=node.next\n",
    "    adv = len(word_list)\n",
    "    ###\n",
    "    kekko = len([s for s in word_list if s == '結構'])\n",
    "    \n",
    "    #動詞\n",
    "    node = tagger.parseToNode(text)\n",
    "    word_list=[]\n",
    "    while node:\n",
    "        word_type = node.feature.split(',')[0]\n",
    "        if word_type in [\"動詞\"]:\n",
    "            word_list.append(node.surface)\n",
    "        node=node.next\n",
    "    v = len(word_list)\n",
    "\n",
    "    #助詞\n",
    "    node = tagger.parseToNode(text)\n",
    "    word_list=[]\n",
    "    while node:\n",
    "        word_type = node.feature.split(',')[0]\n",
    "        if word_type in [\"助詞\"]:\n",
    "            word_list.append(node.surface)\n",
    "        node=node.next\n",
    "    par= len(word_list)\n",
    "    ###\n",
    "    ne = len([s for s in word_list if s == 'ね'])\n",
    "    yo = len([s for s in word_list if s == 'よ'])\n",
    "    jya = len([s for s in word_list if s == 'じゃ'])\n",
    "\n",
    "\n",
    "    #接頭辞\n",
    "    node = tagger.parseToNode(text)\n",
    "    word_list=[]\n",
    "    while node:\n",
    "        word_type = node.feature.split(',')[0]\n",
    "        if word_type in [\"接頭辞\"]:\n",
    "            word_list.append(node.surface)\n",
    "        node=node.next\n",
    "    pref = len(word_list)\n",
    "\n",
    "    #代名詞\n",
    "    node = tagger.parseToNode(text)\n",
    "    word_list=[]\n",
    "    while node:\n",
    "        word_type = node.feature.split(',')[0]\n",
    "        if word_type in [\"代名詞\"]:\n",
    "            word_list.append(node.surface)\n",
    "        node=node.next\n",
    "    pron = len(word_list)\n",
    "\n",
    "    #形容詞\n",
    "    node = tagger.parseToNode(text)\n",
    "    word_list=[]\n",
    "    while node:\n",
    "        word_type = node.feature.split(',')[0]\n",
    "        if word_type in [\"形容詞\"]:\n",
    "            word_list.append(node.surface)\n",
    "        node=node.next\n",
    "    adj = len(word_list)\n",
    "\n",
    "    #感動詞\n",
    "    node = tagger.parseToNode(text)\n",
    "    word_list=[]\n",
    "    while node:\n",
    "        word_type = node.feature.split(',')[0]\n",
    "        if word_type in [\"感動詞\"]:\n",
    "            word_list.append(node.surface)\n",
    "        node=node.next\n",
    "    int = len(word_list)\n",
    "    \n",
    "    #接尾辞\n",
    "    node = tagger.parseToNode(text)\n",
    "    word_list=[]\n",
    "    while node:\n",
    "        word_type = node.feature.split(',')[0]\n",
    "        if word_type in [\"接尾辞\"]:\n",
    "            word_list.append(node.surface)\n",
    "        node=node.next\n",
    "    suf = len(word_list)\n",
    "\n",
    "    #接続詞\n",
    "    node = tagger.parseToNode(text)\n",
    "    word_list=[]\n",
    "    while node:\n",
    "        word_type = node.feature.split(',')[0]\n",
    "        if word_type in [\"接尾辞\"]:\n",
    "            word_list.append(node.surface)\n",
    "        node=node.next\n",
    "    conj = len(word_list)\n",
    "    \n",
    "    node = tagger.parseToNode(text)\n",
    "    word_list=[]\n",
    "    while node:\n",
    "        word_list.append(node.surface)\n",
    "        node = node.next\n",
    "    \n",
    "    \n",
    "    #前後の2語を結合\n",
    "    word_list2 = []\n",
    "    for i in range(len(word_list)):\n",
    "        word_list2.append(word_list[i-1]+word_list[i])\n",
    "\n",
    "\n",
    "    toiu = len([s for s in word_list2 if s == 'と言う'])\n",
    "    yone = len([s for s in word_list2 if s == 'よね'])\n",
    "    keredomo = len([s for s in word_list2 if s == 'けれども'])\n",
    "    toka = len([s for s in word_list2 if s == 'とか'])\n",
    "    terute = len([s for s in word_list2 if s == 'てるて'])\n",
    "    tteiu = len([s for s in word_list2 if s == 'って言う'])\n",
    "    \n",
    "    \n",
    "    #全ての品詞\n",
    "    morphemecount = noun + adno + aux + adv + v + par + pref + pron + adj + int + suf + conj\n",
    "   \n",
    "    func = par+aux+conj+adno+pref+suf\n",
    "    nnc=morphemecount-noun\n",
    "    \n",
    "    SSC = 34.06*keredomo-21.21*yo-13.86*tyau+11.34*desu+11.34*masu-11.31*adno-9.44*toka-7.87*terute-7.04*aux-6.1*ne+4.89*func-2.84*adj-1.51*int\n",
    "    SSF = -25.09*keredomo-19.92*desu-19.92*masu+19.79*yo+17.66*tyau-16.13*kekko+14.19*ne+12.26*pref+10.63*adno+9.06*toka+6.69*aux-5.79*func-5.46*toiu+4.54*pron+2.69*adj\n",
    "    SSI = 35.1*keredomo+19.01*yone-15.16*tteiu+12.79*toiu+12.33*jya-11.3*adno-11.16*kekko-9.21*yo+7.65*desu+7.65*masu-7.44*ne-6.02*terute-4.63*aux+3.67*func+3.13*adv+2.24*v+1.09*par\n",
    "    a = nnc-3.09 \n",
    "    b = nnc+2.72\n",
    "    c = nnc-1.78\n",
    "    if a != 0:\n",
    "        I = SSI/a\n",
    "    else:\n",
    "        I = 0\n",
    "    if b != 0:\n",
    "        F = SSF/b\n",
    "    else:\n",
    "        F = 0\n",
    "    if c != 0:\n",
    "        C = SSC/c\n",
    "    else:\n",
    "        C = 0\n",
    "    C = SSC/c\n",
    "    return I, F, C\n",
    "\n",
    "    "
   ]
  },
  {
   "cell_type": "code",
   "execution_count": 254,
   "id": "9f075c70-5168-4b75-b92d-b6f8549e6158",
   "metadata": {},
   "outputs": [],
   "source": [
    "#あるディレクトリにあるパス名を全て取得\n",
    "pathlist = glob('/Users/katouryuusei/Downloads/CEJC/output/completed/**')\n",
    "pathlist = sorted(pathlist)"
   ]
  },
  {
   "cell_type": "code",
   "execution_count": 464,
   "id": "1e0b8969-93dc-4cdb-9804-f8c5b98a8b2b",
   "metadata": {},
   "outputs": [],
   "source": [
    "#textファイルから三つのspeakingstyleの値を得て配列にする\n",
    "index=[]\n",
    "style=[]\n",
    "for i in range(len(pathlist)):\n",
    "    index.append(pathlist[i][52:60]+ pathlist[i][-6:-4])\n",
    "    style.append(hinshi(pathlist[i]))"
   ]
  },
  {
   "cell_type": "code",
   "execution_count": 466,
   "id": "b729d61e-c8e3-4314-b3ea-9cce33f97ca6",
   "metadata": {},
   "outputs": [],
   "source": [
    "df1 = DataFrame(data=index,columns=[\"話者\"])\n",
    "df2 = DataFrame(data=style,columns=[\"I(明瞭さ)\",\"F(親密さ)\",\"C(社会階層)\"])"
   ]
  },
  {
   "cell_type": "code",
   "execution_count": 467,
   "id": "6ce22142-042f-495c-a5e8-ef61d257a79a",
   "metadata": {},
   "outputs": [
    {
     "data": {
      "text/html": [
       "<div>\n",
       "<style scoped>\n",
       "    .dataframe tbody tr th:only-of-type {\n",
       "        vertical-align: middle;\n",
       "    }\n",
       "\n",
       "    .dataframe tbody tr th {\n",
       "        vertical-align: top;\n",
       "    }\n",
       "\n",
       "    .dataframe thead th {\n",
       "        text-align: right;\n",
       "    }\n",
       "</style>\n",
       "<table border=\"1\" class=\"dataframe\">\n",
       "  <thead>\n",
       "    <tr style=\"text-align: right;\">\n",
       "      <th></th>\n",
       "      <th>話者</th>\n",
       "    </tr>\n",
       "  </thead>\n",
       "  <tbody>\n",
       "    <tr>\n",
       "      <th>0</th>\n",
       "      <td>C001_001_1</td>\n",
       "    </tr>\n",
       "    <tr>\n",
       "      <th>1</th>\n",
       "      <td>C001_001_2</td>\n",
       "    </tr>\n",
       "    <tr>\n",
       "      <th>2</th>\n",
       "      <td>C001_002_1</td>\n",
       "    </tr>\n",
       "    <tr>\n",
       "      <th>3</th>\n",
       "      <td>C001_002_2</td>\n",
       "    </tr>\n",
       "    <tr>\n",
       "      <th>4</th>\n",
       "      <td>C001_003_1</td>\n",
       "    </tr>\n",
       "    <tr>\n",
       "      <th>...</th>\n",
       "      <td>...</td>\n",
       "    </tr>\n",
       "    <tr>\n",
       "      <th>1149</th>\n",
       "      <td>W010_001_2</td>\n",
       "    </tr>\n",
       "    <tr>\n",
       "      <th>1150</th>\n",
       "      <td>W011_001_1</td>\n",
       "    </tr>\n",
       "    <tr>\n",
       "      <th>1151</th>\n",
       "      <td>W011_001_2</td>\n",
       "    </tr>\n",
       "    <tr>\n",
       "      <th>1152</th>\n",
       "      <td>W011_001_1</td>\n",
       "    </tr>\n",
       "    <tr>\n",
       "      <th>1153</th>\n",
       "      <td>W011_001_2</td>\n",
       "    </tr>\n",
       "  </tbody>\n",
       "</table>\n",
       "<p>1154 rows × 1 columns</p>\n",
       "</div>"
      ],
      "text/plain": [
       "              話者\n",
       "0     C001_001_1\n",
       "1     C001_001_2\n",
       "2     C001_002_1\n",
       "3     C001_002_2\n",
       "4     C001_003_1\n",
       "...          ...\n",
       "1149  W010_001_2\n",
       "1150  W011_001_1\n",
       "1151  W011_001_2\n",
       "1152  W011_001_1\n",
       "1153  W011_001_2\n",
       "\n",
       "[1154 rows x 1 columns]"
      ]
     },
     "execution_count": 467,
     "metadata": {},
     "output_type": "execute_result"
    }
   ],
   "source": [
    "df1"
   ]
  },
  {
   "cell_type": "code",
   "execution_count": 468,
   "id": "beac2f0a-72d4-416b-b2b2-da168f8980cd",
   "metadata": {},
   "outputs": [
    {
     "data": {
      "text/html": [
       "<div>\n",
       "<style scoped>\n",
       "    .dataframe tbody tr th:only-of-type {\n",
       "        vertical-align: middle;\n",
       "    }\n",
       "\n",
       "    .dataframe tbody tr th {\n",
       "        vertical-align: top;\n",
       "    }\n",
       "\n",
       "    .dataframe thead th {\n",
       "        text-align: right;\n",
       "    }\n",
       "</style>\n",
       "<table border=\"1\" class=\"dataframe\">\n",
       "  <thead>\n",
       "    <tr style=\"text-align: right;\">\n",
       "      <th></th>\n",
       "      <th>I(明瞭さ)</th>\n",
       "      <th>F(親密さ)</th>\n",
       "      <th>C(社会階層)</th>\n",
       "    </tr>\n",
       "  </thead>\n",
       "  <tbody>\n",
       "    <tr>\n",
       "      <th>0</th>\n",
       "      <td>1.625677</td>\n",
       "      <td>-0.710417</td>\n",
       "      <td>0.234249</td>\n",
       "    </tr>\n",
       "    <tr>\n",
       "      <th>1</th>\n",
       "      <td>2.199660</td>\n",
       "      <td>-1.268873</td>\n",
       "      <td>0.937409</td>\n",
       "    </tr>\n",
       "    <tr>\n",
       "      <th>2</th>\n",
       "      <td>1.303939</td>\n",
       "      <td>-0.419311</td>\n",
       "      <td>-0.248308</td>\n",
       "    </tr>\n",
       "    <tr>\n",
       "      <th>3</th>\n",
       "      <td>2.402076</td>\n",
       "      <td>-1.734782</td>\n",
       "      <td>1.368565</td>\n",
       "    </tr>\n",
       "    <tr>\n",
       "      <th>4</th>\n",
       "      <td>2.298120</td>\n",
       "      <td>-1.466659</td>\n",
       "      <td>1.008448</td>\n",
       "    </tr>\n",
       "    <tr>\n",
       "      <th>...</th>\n",
       "      <td>...</td>\n",
       "      <td>...</td>\n",
       "      <td>...</td>\n",
       "    </tr>\n",
       "    <tr>\n",
       "      <th>1149</th>\n",
       "      <td>2.549485</td>\n",
       "      <td>-2.325612</td>\n",
       "      <td>1.635800</td>\n",
       "    </tr>\n",
       "    <tr>\n",
       "      <th>1150</th>\n",
       "      <td>1.751298</td>\n",
       "      <td>-1.172399</td>\n",
       "      <td>0.617417</td>\n",
       "    </tr>\n",
       "    <tr>\n",
       "      <th>1151</th>\n",
       "      <td>1.578488</td>\n",
       "      <td>-0.554384</td>\n",
       "      <td>-0.009805</td>\n",
       "    </tr>\n",
       "    <tr>\n",
       "      <th>1152</th>\n",
       "      <td>1.705878</td>\n",
       "      <td>-1.138194</td>\n",
       "      <td>0.492590</td>\n",
       "    </tr>\n",
       "    <tr>\n",
       "      <th>1153</th>\n",
       "      <td>1.570010</td>\n",
       "      <td>-0.435342</td>\n",
       "      <td>0.017244</td>\n",
       "    </tr>\n",
       "  </tbody>\n",
       "</table>\n",
       "<p>1154 rows × 3 columns</p>\n",
       "</div>"
      ],
      "text/plain": [
       "        I(明瞭さ)    F(親密さ)   C(社会階層)\n",
       "0     1.625677 -0.710417  0.234249\n",
       "1     2.199660 -1.268873  0.937409\n",
       "2     1.303939 -0.419311 -0.248308\n",
       "3     2.402076 -1.734782  1.368565\n",
       "4     2.298120 -1.466659  1.008448\n",
       "...        ...       ...       ...\n",
       "1149  2.549485 -2.325612  1.635800\n",
       "1150  1.751298 -1.172399  0.617417\n",
       "1151  1.578488 -0.554384 -0.009805\n",
       "1152  1.705878 -1.138194  0.492590\n",
       "1153  1.570010 -0.435342  0.017244\n",
       "\n",
       "[1154 rows x 3 columns]"
      ]
     },
     "execution_count": 468,
     "metadata": {},
     "output_type": "execute_result"
    }
   ],
   "source": [
    "df2"
   ]
  },
  {
   "cell_type": "code",
   "execution_count": 469,
   "id": "62453267-9297-4b75-8ac0-d8382bbfd9f8",
   "metadata": {},
   "outputs": [],
   "source": [
    "df = pd.concat([df1, df2], axis=1)"
   ]
  },
  {
   "cell_type": "code",
   "execution_count": 471,
   "id": "a36ec951-cefe-4e68-aa1b-e6f88333f966",
   "metadata": {},
   "outputs": [],
   "source": [
    "#話者の列をindexに指定\n",
    "df.set_index([\"話者\"],inplace=True)"
   ]
  },
  {
   "cell_type": "code",
   "execution_count": 472,
   "id": "926dec48-28a9-4ca7-8536-e26c9a68797e",
   "metadata": {},
   "outputs": [
    {
     "data": {
      "text/html": [
       "<div>\n",
       "<style scoped>\n",
       "    .dataframe tbody tr th:only-of-type {\n",
       "        vertical-align: middle;\n",
       "    }\n",
       "\n",
       "    .dataframe tbody tr th {\n",
       "        vertical-align: top;\n",
       "    }\n",
       "\n",
       "    .dataframe thead th {\n",
       "        text-align: right;\n",
       "    }\n",
       "</style>\n",
       "<table border=\"1\" class=\"dataframe\">\n",
       "  <thead>\n",
       "    <tr style=\"text-align: right;\">\n",
       "      <th></th>\n",
       "      <th>I(明瞭さ)</th>\n",
       "      <th>F(親密さ)</th>\n",
       "      <th>C(社会階層)</th>\n",
       "    </tr>\n",
       "    <tr>\n",
       "      <th>話者</th>\n",
       "      <th></th>\n",
       "      <th></th>\n",
       "      <th></th>\n",
       "    </tr>\n",
       "  </thead>\n",
       "  <tbody>\n",
       "    <tr>\n",
       "      <th>C001_001_1</th>\n",
       "      <td>1.625677</td>\n",
       "      <td>-0.710417</td>\n",
       "      <td>0.234249</td>\n",
       "    </tr>\n",
       "    <tr>\n",
       "      <th>C001_001_2</th>\n",
       "      <td>2.199660</td>\n",
       "      <td>-1.268873</td>\n",
       "      <td>0.937409</td>\n",
       "    </tr>\n",
       "    <tr>\n",
       "      <th>C001_002_1</th>\n",
       "      <td>1.303939</td>\n",
       "      <td>-0.419311</td>\n",
       "      <td>-0.248308</td>\n",
       "    </tr>\n",
       "    <tr>\n",
       "      <th>C001_002_2</th>\n",
       "      <td>2.402076</td>\n",
       "      <td>-1.734782</td>\n",
       "      <td>1.368565</td>\n",
       "    </tr>\n",
       "    <tr>\n",
       "      <th>C001_003_1</th>\n",
       "      <td>2.298120</td>\n",
       "      <td>-1.466659</td>\n",
       "      <td>1.008448</td>\n",
       "    </tr>\n",
       "    <tr>\n",
       "      <th>...</th>\n",
       "      <td>...</td>\n",
       "      <td>...</td>\n",
       "      <td>...</td>\n",
       "    </tr>\n",
       "    <tr>\n",
       "      <th>W010_001_2</th>\n",
       "      <td>2.549485</td>\n",
       "      <td>-2.325612</td>\n",
       "      <td>1.635800</td>\n",
       "    </tr>\n",
       "    <tr>\n",
       "      <th>W011_001_1</th>\n",
       "      <td>1.751298</td>\n",
       "      <td>-1.172399</td>\n",
       "      <td>0.617417</td>\n",
       "    </tr>\n",
       "    <tr>\n",
       "      <th>W011_001_2</th>\n",
       "      <td>1.578488</td>\n",
       "      <td>-0.554384</td>\n",
       "      <td>-0.009805</td>\n",
       "    </tr>\n",
       "    <tr>\n",
       "      <th>W011_001_1</th>\n",
       "      <td>1.705878</td>\n",
       "      <td>-1.138194</td>\n",
       "      <td>0.492590</td>\n",
       "    </tr>\n",
       "    <tr>\n",
       "      <th>W011_001_2</th>\n",
       "      <td>1.570010</td>\n",
       "      <td>-0.435342</td>\n",
       "      <td>0.017244</td>\n",
       "    </tr>\n",
       "  </tbody>\n",
       "</table>\n",
       "<p>1154 rows × 3 columns</p>\n",
       "</div>"
      ],
      "text/plain": [
       "              I(明瞭さ)    F(親密さ)   C(社会階層)\n",
       "話者                                      \n",
       "C001_001_1  1.625677 -0.710417  0.234249\n",
       "C001_001_2  2.199660 -1.268873  0.937409\n",
       "C001_002_1  1.303939 -0.419311 -0.248308\n",
       "C001_002_2  2.402076 -1.734782  1.368565\n",
       "C001_003_1  2.298120 -1.466659  1.008448\n",
       "...              ...       ...       ...\n",
       "W010_001_2  2.549485 -2.325612  1.635800\n",
       "W011_001_1  1.751298 -1.172399  0.617417\n",
       "W011_001_2  1.578488 -0.554384 -0.009805\n",
       "W011_001_1  1.705878 -1.138194  0.492590\n",
       "W011_001_2  1.570010 -0.435342  0.017244\n",
       "\n",
       "[1154 rows x 3 columns]"
      ]
     },
     "execution_count": 472,
     "metadata": {},
     "output_type": "execute_result"
    }
   ],
   "source": [
    "df"
   ]
  },
  {
   "cell_type": "code",
   "execution_count": 496,
   "id": "56bb0988-46e0-4cd6-861f-a7472d9d07b6",
   "metadata": {},
   "outputs": [],
   "source": [
    "df.to_csv(\"SpeakingStyle.csv\")"
   ]
  },
  {
   "cell_type": "code",
   "execution_count": 532,
   "id": "fb12206c-468b-4b29-bb95-ee9d7a3675a7",
   "metadata": {},
   "outputs": [
    {
     "data": {
      "text/plain": [
       "<matplotlib.collections.PathCollection at 0x12394f210>"
      ]
     },
     "execution_count": 532,
     "metadata": {},
     "output_type": "execute_result"
    },
    {
     "data": {
      "image/png": "[encoded data removed]",
      "text/plain": [
       "<Figure size 432x288 with 1 Axes>"
      ]
     },
     "metadata": {
      "needs_background": "light"
     },
     "output_type": "display_data"
    }
   ],
   "source": [
    "# 散布図を描画\n",
    "plt.xlim(-4.0, 4.0)\n",
    "plt.ylim(-4.0, 4.0)\n",
    "plt.scatter(df[\"I(明瞭さ)\"], df[\"F(親密さ)\"])"
   ]
  },
  {
   "cell_type": "code",
   "execution_count": 529,
   "id": "27583213-ddbc-443a-811e-2e036251eb26",
   "metadata": {},
   "outputs": [
    {
     "data": {
      "text/plain": [
       "<matplotlib.collections.PathCollection at 0x123d9d950>"
      ]
     },
     "execution_count": 529,
     "metadata": {},
     "output_type": "execute_result"
    },
    {
     "data": {
      "image/png": "[encoded data removed]",
      "text/plain": [
       "<Figure size 432x288 with 1 Axes>"
      ]
     },
     "metadata": {
      "needs_background": "light"
     },
     "output_type": "display_data"
    }
   ],
   "source": [
    "plt.xlim(-4.0, 4.0)\n",
    "plt.ylim(-4.0, 4.0)\n",
    "plt.scatter(testdf[\"I(明瞭さ)\"], testdf[\"C(社会階層)\"])"
   ]
  },
  {
   "cell_type": "code",
   "execution_count": 533,
   "id": "aa12d662-7f44-4d61-86f1-da5ad80997e4",
   "metadata": {},
   "outputs": [
    {
     "data": {
      "text/plain": [
       "<matplotlib.collections.PathCollection at 0x123cbc0d0>"
      ]
     },
     "execution_count": 533,
     "metadata": {},
     "output_type": "execute_result"
    },
    {
     "data": {
      "image/png": "[encoded data removed]",
      "text/plain": [
       "<Figure size 432x288 with 1 Axes>"
      ]
     },
     "metadata": {
      "needs_background": "light"
     },
     "output_type": "display_data"
    }
   ],
   "source": [
    "plt.xlim(-4.0, 4.0)\n",
    "plt.ylim(-4.0, 4.0)\n",
    "plt.scatter(df[\"F(親密さ)\"], df[\"C(社会階層)\"])"
   ]
  },
  {
   "cell_type": "code",
   "execution_count": 531,
   "id": "d8e8c095-80fe-44d7-948e-77bce0598e62",
   "metadata": {},
   "outputs": [
    {
     "data": {
      "text/plain": [
       "<matplotlib.collections.PathCollection at 0x1239e69d0>"
      ]
     },
     "execution_count": 531,
     "metadata": {},
     "output_type": "execute_result"
    },
    {
     "data": {
      "image/png": "[encoded data removed]",
      "text/plain": [
       "<Figure size 432x288 with 1 Axes>"
      ]
     },
     "metadata": {
      "needs_background": "light"
     },
     "output_type": "display_data"
    }
   ],
   "source": [
    "plt.xlim(0, 4.0)\n",
    "plt.ylim(-4.0, 4.0)\n",
    "plt.scatter(df[\"I(明瞭さ)\"], df[\"C(社会階層)\"])"
   ]
  },
  {
   "cell_type": "code",
   "execution_count": 524,
   "id": "321e6d8d-41ca-4425-83a8-27990220046f",
   "metadata": {},
   "outputs": [
    {
     "data": {
      "text/plain": [
       "<matplotlib.collections.PathCollection at 0x123d7af90>"
      ]
     },
     "execution_count": 524,
     "metadata": {},
     "output_type": "execute_result"
    },
    {
     "data": {
      "image/png": "[encoded data removed]",
      "text/plain": [
       "<Figure size 432x288 with 1 Axes>"
      ]
     },
     "metadata": {
      "needs_background": "light"
     },
     "output_type": "display_data"
    }
   ],
   "source": [
    "plt.scatter(df[\"I(明瞭さ)\"], df[\"C(社会階層)\"])"
   ]
  },
  {
   "cell_type": "code",
   "execution_count": 538,
   "id": "f0b306cf-00bd-4439-a488-88ddf6cf56fb",
   "metadata": {},
   "outputs": [
    {
     "data": {
      "text/plain": [
       "<matplotlib.collections.PathCollection at 0x123bb8810>"
      ]
     },
     "execution_count": 538,
     "metadata": {},
     "output_type": "execute_result"
    },
    {
     "data": {
      "image/png": "[encoded data removed]",
      "text/plain": [
       "<Figure size 432x288 with 1 Axes>"
      ]
     },
     "metadata": {
      "needs_background": "light"
     },
     "output_type": "display_data"
    }
   ],
   "source": [
    "plt.scatter(df[\"I(明瞭さ)\"], df[\"F(親密さ)\"])"
   ]
  },
  {
   "cell_type": "code",
   "execution_count": 539,
   "id": "0e6d4ef8-dfee-4312-b551-7b1e7cc49f31",
   "metadata": {},
   "outputs": [
    {
     "data": {
      "text/plain": [
       "<matplotlib.collections.PathCollection at 0x123677350>"
      ]
     },
     "execution_count": 539,
     "metadata": {},
     "output_type": "execute_result"
    },
    {
     "data": {
      "image/png": "[encoded data removed]",
      "text/plain": [
       "<Figure size 432x288 with 1 Axes>"
      ]
     },
     "metadata": {
      "needs_background": "light"
     },
     "output_type": "display_data"
    }
   ],
   "source": [
    "plt.scatter(df[\"F(親密さ)\"], df[\"C(社会階層)\"])"
   ]
  },
  {
   "cell_type": "code",
   "execution_count": null,
   "id": "f93ba7f0-fdaf-49cf-a8f4-cc8a051f8f5e",
   "metadata": {},
   "outputs": [],
   "source": []
  },
  {
   "cell_type": "code",
   "execution_count": null,
   "id": "1c4a9a1a-9183-4e21-b1bb-3841a92d2f38",
   "metadata": {},
   "outputs": [],
   "source": []
  },
  {
   "cell_type": "code",
   "execution_count": null,
   "id": "5ec0fbc3-4382-449d-8cb9-51a35ed46b67",
   "metadata": {},
   "outputs": [],
   "source": []
  },
  {
   "cell_type": "code",
   "execution_count": 319,
   "id": "9bf3e92c-cd55-49e1-a52f-d6316a3dc320",
   "metadata": {},
   "outputs": [],
   "source": [
    "\n",
    "\n",
    "#textファイルの読み込み\n",
    "#＊＊＊＊には保存したtxtファイルのパス名を入れてください\n",
    "f= open('/Users/katouryuusei/Downloads/CEJC/output/completed/C001_001-transUnit.TextGrid_1.txt', 'r', encoding='UTF-8')\n",
    "text=f.read()\n",
    "f.close()\n",
    "\n",
    "#読み込んだtextファイルで形態素解析を行う\n",
    "tagger =MeCab.Tagger(\"-d /usr/local/lib/mecab/dic/unidic/\")\n",
    "tagger.parse('')\n",
    "node = tagger.parseToNode(text)\n",
    "#取り出す品詞を決めている.今回は名詞\n",
    "word_list=[]\n",
    "while node:\n",
    "    word_type = node.feature.split(',')[0]\n",
    "    #名詞の他にも動詞や形容詞なども追加できる\n",
    "    if word_type in [\"名詞\"]:\n",
    "        word_list.append(node.surface)\n",
    "    node=node.next\n",
    "word_chain=' '.join(word_list)\n",
    "word_list = [s for s in word_list if s != 'ー']\n",
    "noun = len(word_list)\n",
    "\n",
    "\n",
    "#連体詞\n",
    "node = tagger.parseToNode(text)\n",
    "word_list=[]\n",
    "while node:\n",
    "    word_type = node.feature.split(',')[0]\n",
    "    #名詞の他にも動詞や形容詞なども追加できる\n",
    "    if word_type in [\"連体詞\"]:\n",
    "        word_list.append(node.surface)\n",
    "    node=node.next\n",
    "word_chain=' '.join(word_list)\n",
    "adno = len(word_list)\n",
    "\n",
    "\n",
    "#助動詞\n",
    "\n",
    "node = tagger.parseToNode(text)\n",
    "word_list=[]\n",
    "while node:\n",
    "    word_type = node.feature.split(',')[0]\n",
    "    #名詞の他にも動詞や形容詞なども追加できる\n",
    "    if word_type in [\"助動詞\"]:\n",
    "        word_list.append(node.surface)\n",
    "    node=node.next\n",
    "word_chain=' '.join(word_list)\n",
    "aux = len(word_list)\n",
    "\n",
    "\n",
    "#副詞\n",
    "node = tagger.parseToNode(text)\n",
    "word_list=[]\n",
    "while node:\n",
    "    word_type = node.feature.split(',')[0]\n",
    "    #名詞の他にも動詞や形容詞なども追加できる\n",
    "    if word_type in [\"副詞\"]:\n",
    "        word_list.append(node.surface)\n",
    "    node=node.next\n",
    "word_chain=' '.join(word_list)\n",
    "adv = len(word_list)\n",
    "kekko = len([s for s in word_list if s == '結構'])\n",
    "\n",
    "#動詞\n",
    "node = tagger.parseToNode(text)\n",
    "word_list=[]\n",
    "while node:\n",
    "    word_type = node.feature.split(',')[0]\n",
    "    #名詞の他にも動詞や形容詞なども追加できる\n",
    "    if word_type in [\"動詞\"]:\n",
    "        word_list.append(node.surface)\n",
    "    node=node.next\n",
    "word_chain=' '.join(word_list)\n",
    "v = len(word_list)\n",
    "\n",
    "\n",
    "#助詞\n",
    "node = tagger.parseToNode(text)\n",
    "word_list=[]\n",
    "while node:\n",
    "    word_type = node.feature.split(',')[0]\n",
    "    #名詞の他にも動詞や形容詞なども追加できる\n",
    "    if word_type in [\"助詞\"]:\n",
    "        word_list.append(node.surface)\n",
    "    node=node.next\n",
    "word_chain=' '.join(word_list)\n",
    "par= len(word_list)\n",
    "  \n",
    "\n",
    "\n",
    "#接頭辞\n",
    "node = tagger.parseToNode(text)\n",
    "word_list=[]\n",
    "while node:\n",
    "    word_type = node.feature.split(',')[0]\n",
    "    #名詞の他にも動詞や形容詞なども追加できる\n",
    "    if word_type in [\"接頭辞\"]:\n",
    "        word_list.append(node.surface)\n",
    "    node=node.next\n",
    "word_chain=' '.join(word_list)\n",
    "pref = len(word_list)\n",
    "\n",
    "#代名詞\n",
    "node = tagger.parseToNode(text)\n",
    "word_list=[]\n",
    "while node:\n",
    "    word_type = node.feature.split(',')[0]\n",
    "    #名詞の他にも動詞や形容詞なども追加できる\n",
    "    if word_type in [\"代名詞\"]:\n",
    "        word_list.append(node.surface)\n",
    "    node=node.next\n",
    "word_chain=' '.join(word_list)\n",
    "pron = len(word_list)\n",
    "\n",
    "#形容詞\n",
    "node = tagger.parseToNode(text)\n",
    "word_list=[]\n",
    "while node:\n",
    "    word_type = node.feature.split(',')[0]\n",
    "    #名詞の他にも動詞や形容詞なども追加できる\n",
    "    if word_type in [\"形容詞\"]:\n",
    "        word_list.append(node.surface)\n",
    "    node=node.next\n",
    "word_chain=' '.join(word_list)\n",
    "adj = len(word_list)\n",
    "\n",
    "#感動詞\n",
    "node = tagger.parseToNode(text)\n",
    "word_list=[]\n",
    "while node:\n",
    "    word_type = node.feature.split(',')[0]\n",
    "    #名詞の他にも動詞や形容詞なども追加できる\n",
    "    if word_type in [\"感動詞\"]:\n",
    "        word_list.append(node.surface)\n",
    "    node=node.next\n",
    "word_chain=' '.join(word_list)\n",
    "int = len(word_list)\n",
    "\n",
    "#接尾辞\n",
    "node = tagger.parseToNode(text)\n",
    "word_list=[]\n",
    "while node:\n",
    "    word_type = node.feature.split(',')[0]\n",
    "    #名詞の他にも動詞や形容詞なども追加できる\n",
    "    if word_type in [\"接尾辞\"]:\n",
    "        word_list.append(node.surface)\n",
    "    node=node.next\n",
    "word_chain=' '.join(word_list)\n",
    "suf = len(word_list)\n",
    "\n",
    "#接続詞\n",
    "node = tagger.parseToNode(text)\n",
    "word_list=[]\n",
    "while node:\n",
    "    word_type = node.feature.split(',')[0]\n",
    "    #名詞の他にも動詞や形容詞なども追加できる\n",
    "    if word_type in [\"接尾辞\"]:\n",
    "        word_list.append(node.surface)\n",
    "    node=node.next\n",
    "word_chain=' '.join(word_list)\n",
    "conj = len(word_list)\n",
    "\n",
    "\n",
    "\n",
    "node = tagger.parseToNode(text)\n",
    "word_list=[]\n",
    "while node:\n",
    "    word_list.append(node.surface)\n",
    "    node = node.next\n",
    "    \n",
    "    \n",
    "#前後の2語を結合\n",
    "word_list2 = []\n",
    "for i in range(len(word_list)):\n",
    "    word_list2.append(word_list[i-1]+word_list[i])\n",
    "\n",
    "\n",
    "toiu = len([s for s in word_list2 if s == 'と言う'])\n",
    "yone = len([s for s in word_list2 if s == 'よね'])\n",
    "keredomo = len([s for s in word_list2 if s == 'けれども'])\n",
    "toka = len([s for s in word_list2 if s == 'とか'])\n",
    "terute = len([s for s in word_list2 if s == 'てるて'])\n",
    "tteiu = len([s for s in word_list2 if s == 'って言う'])\n",
    "\n",
    "morphemecount = noun + adno + aux + adv + v + par + pref + pron + adj + int + suf + conj\n",
    "func = par+aux+conj+adno+pref+suf\n",
    "nnc=morphemecount-noun\n",
    "\n",
    "SSC = 34.06*keredomo-21.21*yo-13.86*tyau+11.34*desu+11.34*masu-11.31*adno-9.44*toka-7.87*terute-7.04*aux-6.1*ne+4.89*func-2.84*adj-1.51*int\n",
    "SSF = -25.09*keredomo-19.92*desu-19.92*masu+19.79*yo+17.66*tyau-16.13*kekko+14.19*ne+12.26*pref+10.63*adno+9.06*toka+6.69*aux-5.79*func-5.46*toiu+4.54*pron+2.69*adj\n",
    "SSI = 35.1*keredomo+19.01*yone-15.16*tteiu+12.79*toiu+12.33*jya-11.3*adno-11.16*kekko-9.21*yo+7.65*desu+7.65*masu-7.44*ne-6.02*terute-4.63*aux+3.67*func+3.13*adv+2.24*v+1.09*par\n",
    "\n",
    "I = SSI/nnc-3.09\n",
    "F = SSF/nnc+2.72\n",
    "C = SSC/nnc-1.78\n",
    "\n",
    "\n"
   ]
  },
  {
   "cell_type": "code",
   "execution_count": 320,
   "id": "0d6fd689-1b41-4bf9-a67d-8ea54c55eba1",
   "metadata": {},
   "outputs": [
    {
     "name": "stdout",
     "output_type": "stream",
     "text": [
      "2941.1400000000003\n",
      "-2085.6299999999997\n",
      "1176.5199999999998\n",
      "-1.1054251012145746\n",
      "1.312692307692308\n",
      "-0.98612685560054\n"
     ]
    }
   ],
   "source": [
    "print(SSI)\n",
    "print(SSF)\n",
    "print(SSC)\n",
    "print(I)\n",
    "print(F)\n",
    "print(C)"
   ]
  },
  {
   "cell_type": "code",
   "execution_count": 167,
   "id": "56888dde-3fb4-4945-8450-06c0b71d437f",
   "metadata": {},
   "outputs": [
    {
     "name": "stdout",
     "output_type": "stream",
     "text": [
      "222\n",
      "5\n",
      "191\n",
      "95\n",
      "178\n",
      "443\n",
      "19\n",
      "48\n",
      "70\n",
      "400\n",
      "22\n",
      "22\n"
     ]
    }
   ],
   "source": [
    "print(noun)\n",
    "print(adno)\n",
    "print(aux)\n",
    "print(adv)\n",
    "print(v)\n",
    "print(par)\n",
    "print(pref)\n",
    "print(pron)\n",
    "print(adj)\n",
    "print(int)\n",
    "print(suf)\n",
    "print(conj)"
   ]
  },
  {
   "cell_type": "code",
   "execution_count": 171,
   "id": "d352f710-358b-433b-9b95-4d7ea5659d72",
   "metadata": {},
   "outputs": [
    {
     "data": {
      "text/plain": [
       "1715"
      ]
     },
     "execution_count": 171,
     "metadata": {},
     "output_type": "execute_result"
    }
   ],
   "source": [
    "morphemecount = noun + adno + aux + adv + v + par + pref + pron + adj + int + suf + conj\n",
    "morphemecount"
   ]
  },
  {
   "cell_type": "code",
   "execution_count": 199,
   "id": "6cb81856-8948-4a7c-9bce-c21302704a60",
   "metadata": {},
   "outputs": [],
   "source": [
    "func = par+aux+conj+adno+pref+suf\n",
    "nnc=morphemecount-noun"
   ]
  },
  {
   "cell_type": "code",
   "execution_count": 201,
   "id": "4ce5acdd-f19b-4bf8-9bba-768b641db16a",
   "metadata": {},
   "outputs": [
    {
     "data": {
      "text/plain": [
       "702"
      ]
     },
     "execution_count": 201,
     "metadata": {},
     "output_type": "execute_result"
    }
   ],
   "source": [
    "func"
   ]
  },
  {
   "cell_type": "code",
   "execution_count": 200,
   "id": "b9ffe3ce-709c-459c-8f7c-0f53bbfaf229",
   "metadata": {},
   "outputs": [
    {
     "data": {
      "text/plain": [
       "1493"
      ]
     },
     "execution_count": 200,
     "metadata": {},
     "output_type": "execute_result"
    }
   ],
   "source": [
    "nnc"
   ]
  },
  {
   "cell_type": "code",
   "execution_count": 105,
   "id": "1d0c91c7-cbcf-4f69-a67a-6ba09d5231c4",
   "metadata": {},
   "outputs": [],
   "source": [
    "noun=0 #名詞\n",
    "adno=0 #連体詞\n",
    "aux=0  #助動詞\n",
    "adv=0  #副詞\n",
    "v=0    #動詞\n",
    "par=0  #助詞\n",
    "pref=0 #接頭辞\n",
    "pron=0 #代名詞\n",
    "adj=0  #形容詞\n",
    "int=0  #感動詞\n",
    "suf=0  #接尾辞\n",
    "conj=0 #接続詞"
   ]
  },
  {
   "cell_type": "code",
   "execution_count": null,
   "id": "48a94b79-37bb-4040-bbdc-d5838365b092",
   "metadata": {},
   "outputs": [],
   "source": []
  },
  {
   "cell_type": "code",
   "execution_count": 313,
   "id": "51c3715a-963c-4f2d-a1f1-fa8ee9cbbf51",
   "metadata": {},
   "outputs": [],
   "source": [
    "f= open('/Users/katouryuusei/Downloads/CEJC/output/completed/C001_001-transUnit.TextGrid_1.txt', 'r', encoding='UTF-8')\n",
    "text=f.read()\n",
    "f.close()\n",
    "\n",
    "\n",
    "node = tagger.parseToNode(text)\n",
    "word_list=[]\n",
    "while node:\n",
    "    word_list.append(node.surface)\n",
    "    node = node.next\n",
    "    \n",
    "    \n",
    "#前後の2語を結合\n",
    "word_list2 = []\n",
    "for i in range(len(word_list)):\n",
    "    word_list2.append(word_list[i-1]+word_list[i])\n",
    "\n",
    "\n",
    "toiu = len([s for s in word_list2 if s == 'と言う'])\n",
    "yone = len([s for s in word_list2 if s == 'よね'])\n",
    "keredomo = len([s for s in word_list2 if s == 'けれども'])\n",
    "toka = len([s for s in word_list2 if s == 'とか'])\n",
    "terute = len([s for s in word_list2 if s == 'てるて'])\n",
    "tteiu = len([s for s in word_list2 if s == 'って言う'])\n",
    "\n",
    "  "
   ]
  },
  {
   "cell_type": "code",
   "execution_count": 314,
   "id": "23e8c276-f645-48d6-980e-a6fa0179d491",
   "metadata": {},
   "outputs": [
    {
     "name": "stdout",
     "output_type": "stream",
     "text": [
      "0\n",
      "8\n",
      "0\n",
      "5\n",
      "0\n",
      "1\n"
     ]
    }
   ],
   "source": [
    "print(toiu)\n",
    "print(yone)\n",
    "print(keredomo)\n",
    "print(toka)\n",
    "print(terute)\n",
    "print(tteiu)"
   ]
  },
  {
   "cell_type": "code",
   "execution_count": null,
   "id": "50d2586e-5937-4c98-b64d-c13fabde3179",
   "metadata": {},
   "outputs": [],
   "source": []
  },
  {
   "cell_type": "code",
   "execution_count": 309,
   "id": "5cf4d40d-49d8-4792-8fc2-b992e190027a",
   "metadata": {},
   "outputs": [],
   "source": [
    "word_list2 = []\n",
    "for i in range(len(word_list)):\n",
    "    word_list2.append(word_list[i-1]+word_list[i])"
   ]
  },
  {
   "cell_type": "code",
   "execution_count": 137,
   "id": "752fe497-0eb8-4799-b57c-f4ea1f5a6c01",
   "metadata": {},
   "outputs": [
    {
     "name": "stdout",
     "output_type": "stream",
     "text": [
      "代名詞,*,*,*,*,*,ワガハイ,我が輩,吾輩,ワガハイ,吾輩,ワガハイ,混,*,*,*,*,ワガハイ,ワガハイ,ワガハイ,ワガハイ,*,*,0,*,*\n",
      "助詞,係助詞,*,*,*,*,ハ,は,は,ワ,は,ワ,和,*,*,*,*,ハ,ハ,ハ,ハ,*,*,*,\"動詞%F2@0,名詞%F1,形容詞%F2@-1\",*\n",
      "名詞,普通名詞,一般,*,*,*,ネコ,猫,猫,ネコ,猫,ネコ,和,*,*,*,*,ネコ,ネコ,ネコ,ネコ,*,*,1,C4,*\n",
      "助動詞,*,*,*,助動詞-ダ,連用形-一般,ダ,だ,で,デ,だ,ダ,和,*,*,*,*,デ,ダ,デ,ダ,*,*,*,名詞%F1,*\n",
      "動詞,非自立可能,*,*,五段-ラ行,終止形-一般,アル,有る,ある,アル,ある,アル,和,*,*,*,*,アル,アル,アル,アル,*,*,1,C3,*\n",
      "補助記号,句点,*,*,*,*,,。,。,,。,,記号,*,*,*,*,,,,,*,*,*,*,*\n"
     ]
    }
   ],
   "source": [
    "s = \"吾輩は猫である。\"\n",
    "\n",
    "tagger = MeCab.Tagger(\"\")\n",
    "tagger.parse(\"\")\n",
    "\n",
    "node = tagger.parseToNode(s).next\n",
    "while node.next:\n",
    "    print(node.feature)\n",
    "    node = node.next"
   ]
  },
  {
   "cell_type": "code",
   "execution_count": 3,
   "id": "40debdc4-0409-4ff9-ae8a-c22ff241125d",
   "metadata": {},
   "outputs": [
    {
     "name": "stdout",
     "output_type": "stream",
     "text": [
      "吾輩\n",
      "は\n",
      "猫\n",
      "で\n",
      "ある\n",
      "。\n"
     ]
    }
   ],
   "source": [
    "s = \"吾輩は猫である。\"\n",
    "\n",
    "tagger = MeCab.Tagger(\"\")\n",
    "tagger.parse(\"\")\n",
    "\n",
    "node = tagger.parseToNode(s).next\n",
    "while node.next:\n",
    "    print(node.surface)\n",
    "    node = node.next"
   ]
  },
  {
   "cell_type": "code",
   "execution_count": null,
   "id": "bdd1e50d-4c38-4af7-9482-3687866d4a21",
   "metadata": {},
   "outputs": [],
   "source": []
  }
 ],
 "metadata": {
  "kernelspec": {
   "display_name": "Python 3",
   "language": "python",
   "name": "python3"
  },
  "language_info": {
   "codemirror_mode": {
    "name": "ipython",
    "version": 3
   },
   "file_extension": ".py",
   "mimetype": "text/x-python",
   "name": "python",
   "nbconvert_exporter": "python",
   "pygments_lexer": "ipython3",
   "version": "3.7.10"
  }
 },
 "nbformat": 4,
 "nbformat_minor": 5
}
