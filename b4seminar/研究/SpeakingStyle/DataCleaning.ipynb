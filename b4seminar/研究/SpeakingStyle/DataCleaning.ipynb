{
 "cells": [
  {
   "cell_type": "code",
   "execution_count": 2,
   "id": "7a06cb12-f9f8-4b8b-8989-405fd4b221d0",
   "metadata": {},
   "outputs": [],
   "source": [
    "import tgt\n",
    "from tgt import read_textgrid\n",
    "from pandas import DataFrame\n",
    "import re \n",
    "import os\n",
    "from glob import glob\n",
    "from pathlib import Path"
   ]
  },
  {
   "cell_type": "code",
   "execution_count": 107,
   "id": "adab4488-3dde-4151-8dcc-1e8a0d48d304",
   "metadata": {},
   "outputs": [],
   "source": [
    "#大括弧[]で囲むとその中の任意の一文字にマッチする。複数の異なる文字を同じ文字列に置換する場合に使う。\n",
    "#パターンを|で区切るといずれかのパターンにマッチする\n",
    "\n",
    "#CEJCで削除するもの \"%\" \"L\" \"WとWの後半部分\"  \"Dから)まで\"  \"<から>まで\"　　\"Uの部分\"  \"@の部分\"\n",
    "\n",
    "def clean(data):\n",
    "    #任意の文字からから任意の文字までを削除 \"?\"で最短マッチの繰り返しを指定  \".\"は任意の文字  \"*\"は０回以上の繰り返し\n",
    "    #W(言い誤り)を削除\n",
    "    data = re.sub('W.*?\\|',' ',data)\n",
    "    #D(言いさし)を削除\n",
    "    data = re.sub('D.*?\\)',' ',data)\n",
    "    #<>（発話行為）を削除\n",
    "    data = re.sub('\\<.*?\\>',' ',data)\n",
    "    data = re.sub('\\＜.*?\\＞',' ',data)\n",
    "    #U(聞き取り不明)を削除\n",
    "    data = re.sub('U.*?\\)',' ',data)\n",
    "    #X(語が不明)を削除\n",
    "    data = re.sub('X.*?\\)',' ',data)\n",
    "    #K(漢字表記にできない)を削除\n",
    "    data = re.sub('K.*?\\|',' ',data)\n",
    "    #Y(一般的な読みと発音が異なる)\n",
    "    data = re.sub('Y.*?\\|',' ',data)\n",
    "    #G(可読性が低い口語表現)\n",
    "    data = re.sub('\\|.*?\\)',' ',data)\n",
    "    #F(フィラー)\n",
    "    data = re.sub('F.*?\\)',' ',data)\n",
    "    #I(途中に感動紙が挿入)\n",
    "    data = re.sub('I.*?\\)',' ',data)\n",
    "    #@(転記に対するコメント)\n",
    "    \n",
    "    data = data.replace(' ', '')\n",
    "    data = data.replace(':', 'ー')\n",
    "    data = data.replace('%', ' ')\n",
    "    data = data.replace('?', ' ')\n",
    "    data = data.replace('T', ' ')\n",
    "    data = data.replace('L', ' ')\n",
    "    data = data.replace('C', ' ')\n",
    "    data = data.replace('S', ' ')\n",
    "    data = data.replace('X', ' ')\n",
    "    data = data.replace('M', ' ')\n",
    "    data = data.replace('O', ' ')\n",
    "    data = data.replace('B', ' ')\n",
    "    data = data.replace('。', ' ')\n",
    "    data = data.replace('+',' ')\n",
    "    data = data.replace('R', ' ')\n",
    "    data = data.replace('G', ' ')\n",
    "    data = data.replace('\\*', ' ')  \n",
    "    data = data.replace('(',' ')\n",
    "    data = data.replace(')',' ')\n",
    "    return data"
   ]
  },
  {
   "cell_type": "code",
   "execution_count": 108,
   "id": "f1ce80a3-12a4-4162-a5f4-815a1d85c4fa",
   "metadata": {},
   "outputs": [],
   "source": [
    "#クリーニングを行う\n",
    "\n",
    "\n",
    "#前ファイルのpathを取得\n",
    "pathlist = glob('./data/**/**/*transUnit.TextGrid')\n",
    "\n",
    "#ディレクトリ作成\n",
    "os.makedirs('./output/pre', exist_ok=True)\n",
    "os.makedirs('./output/completed', exist_ok=True)\n",
    "\n",
    "for i in range(len(pathlist)):\n",
    "    pathname = pathlist[i][-28:]\n",
    "    tg = read_textgrid(pathlist[i])\n",
    "    tier_name = tg.get_tier_names()\n",
    "    tier1 = tg.get_tier_by_name(tier_name[0])\n",
    "    tier2 = tg.get_tier_by_name(tier_name[1])\n",
    "    df1 = DataFrame([interval.text for interval in tier1 if interval.text != \"pz\"], columns=[\"words\"])\n",
    "    df2 = DataFrame([interval.text for interval in tier2 if interval.text != \"pz\"], columns=[\"words\"])\n",
    "    datalist1 = df1[\"words\"]\n",
    "    #datalist1の@を削除\n",
    "    for j in range(len(datalist1)):\n",
    "        if \"@\"  in datalist1[j]:\n",
    "            datalist1[j] = re.sub('\\@.*',' ',datalist1[j])\n",
    "        else:\n",
    "            datalist1[j] = datalist1[j]\n",
    "    datalist2 = df2[\"words\"]\n",
    "    #datalist2の@を削除\n",
    "    for k in range(len(datalist2)):\n",
    "        if \"@\"  in datalist2[k]:\n",
    "            datalist2[k] = re.sub('\\@.*',' ',datalist2[k])\n",
    "        else:\n",
    "            datalist2[k] = datalist2[k]\n",
    "    #テキストグリッドファイルをtxtファイルにする(1個目)\n",
    "    f = open(  './output/pre/'+ pathname + '_1.txt', 'w', encoding='UTF-8')\n",
    "    f.writelines(datalist1)\n",
    "    f.close()\n",
    "    #txtファイルを読み込む\n",
    "    f = open('./output/pre/'+ pathname + '_1.txt', 'r')\n",
    "    data1 = f.read()\n",
    "    f.close()\n",
    "    data1 = clean(data1)\n",
    "    f = open(  './output/completed/'+ pathname + '_1.txt', 'w', encoding='UTF-8')\n",
    "    f.writelines(data1)\n",
    "    f.close()\n",
    "    \n",
    "    #2個目\n",
    "    f = open(  './output/pre/'+ pathname + '_2.txt', 'w', encoding='UTF-8')\n",
    "    f.writelines(datalist2)\n",
    "    f.close()\n",
    "    #txtファイルを読み込む\n",
    "    f = open('./output/pre/'+ pathname + '_2.txt', 'r')\n",
    "    data2 = f.read()\n",
    "    f.close()\n",
    "    data2 = clean(data2)\n",
    "    f = open(  './output/completed/'+ pathname + '_2.txt', 'w', encoding='UTF-8')\n",
    "    f.writelines(data2)\n",
    "    f.close()"
   ]
  },
  {
   "cell_type": "code",
   "execution_count": null,
   "id": "8449c872-2c01-4572-b431-4d136c288a46",
   "metadata": {},
   "outputs": [],
   "source": []
  },
  {
   "cell_type": "code",
   "execution_count": null,
   "id": "44ebbf25-8457-4fa3-9c79-a69642c0ef0d",
   "metadata": {},
   "outputs": [],
   "source": []
  },
  {
   "cell_type": "code",
   "execution_count": null,
   "id": "e49b4f95-8eff-4529-a040-5ad13d521431",
   "metadata": {},
   "outputs": [],
   "source": []
  },
  {
   "cell_type": "code",
   "execution_count": null,
   "id": "950e604c-fdbe-48f9-a3be-b46d4062fdca",
   "metadata": {},
   "outputs": [],
   "source": []
  },
  {
   "cell_type": "code",
   "execution_count": null,
   "id": "f32f5e19-47fc-4907-97af-76d79957085b",
   "metadata": {},
   "outputs": [],
   "source": []
  },
  {
   "cell_type": "code",
   "execution_count": null,
   "id": "51a36dac-5f65-4ccf-ac04-da26fe10c2df",
   "metadata": {},
   "outputs": [],
   "source": []
  },
  {
   "cell_type": "code",
   "execution_count": null,
   "id": "3cdbecac-4ad1-4a92-bb06-57922851f2b6",
   "metadata": {},
   "outputs": [],
   "source": [
    "#datalist1に@があれば表示\n",
    "for i in range(len(datalist1)):\n",
    "    if \"@\" in datalist1[i]:\n",
    "        print(datalist1[i])"
   ]
  },
  {
   "cell_type": "code",
   "execution_count": 9,
   "id": "61a60393-111f-45a7-a22a-9be54668dcd6",
   "metadata": {},
   "outputs": [],
   "source": [
    "#@の削除\n",
    "for i in range(len(datalist1)):\n",
    "    if \"@\"  in datalist1[i]:\n",
    "        datalist1[i] = re.sub('\\@.*',' ',datalist1[i])\n",
    "    else:\n",
    "        datalist1[i] = datalist1[i]"
   ]
  },
  {
   "cell_type": "code",
   "execution_count": 385,
   "id": "10c90de0-99f8-478d-ac71-e1ddad567a70",
   "metadata": {},
   "outputs": [
    {
     "data": {
      "text/plain": [
       "'C001_001_2'"
      ]
     },
     "execution_count": 385,
     "metadata": {},
     "output_type": "execute_result"
    }
   ],
   "source": [
    "pathlist2[1][17:25] + pathlist2[1][-6:-4]"
   ]
  },
  {
   "cell_type": "code",
   "execution_count": 11,
   "id": "215ce021-9454-4f77-8a03-62ff3b03e4c1",
   "metadata": {},
   "outputs": [
    {
     "data": {
      "text/plain": [
       "'_2'"
      ]
     },
     "execution_count": 11,
     "metadata": {},
     "output_type": "execute_result"
    }
   ],
   "source": [
    "pathlist2[23][-6:-4]"
   ]
  },
  {
   "cell_type": "markdown",
   "id": "3b8bd8f3-5f39-44d0-a01b-d730466ad089",
   "metadata": {},
   "source": [
    "### "
   ]
  },
  {
   "cell_type": "code",
   "execution_count": 111,
   "id": "a96e8860-63e2-4045-9e50-acc23508522e",
   "metadata": {},
   "outputs": [],
   "source": [
    "\n",
    "\n",
    "#pathを取得\n",
    "pathlist2 = glob('output/completed/*')\n",
    "pathlist2 = sorted(pathlist2)\n",
    "\n",
    "\n",
    "#@が入っているpathを表示\n",
    "\n",
    "for i in range(len(pathlist2)):\n",
    "    f = open(pathlist2[i], 'r')\n",
    "    data = f.read()\n",
    "    if '@' in data:\n",
    "        print(pathlist2[i][17:25] + pathlist2[i][-6:-4], data.count('@'))\n",
    "#    else:\n",
    "#        print(\"TRUE\")"
   ]
  },
  {
   "cell_type": "code",
   "execution_count": 425,
   "id": "2c164a49-1125-4b6a-91c9-c0a87f608fa9",
   "metadata": {},
   "outputs": [],
   "source": [
    "for i in range(len(pathlist2)):\n",
    "    f = open(pathlist2[i], 'r')\n",
    "    data = f.read()\n",
    "    if '＞' in data:\n",
    "        print(pathlist2[i][17:25] + pathlist2[i][-6:-4])"
   ]
  }
 ],
 "metadata": {
  "kernelspec": {
   "display_name": "Python 3",
   "language": "python",
   "name": "python3"
  },
  "language_info": {
   "codemirror_mode": {
    "name": "ipython",
    "version": 3
   },
   "file_extension": ".py",
   "mimetype": "text/x-python",
   "name": "python",
   "nbconvert_exporter": "python",
   "pygments_lexer": "ipython3",
   "version": "3.7.10"
  }
 },
 "nbformat": 4,
 "nbformat_minor": 5
}
